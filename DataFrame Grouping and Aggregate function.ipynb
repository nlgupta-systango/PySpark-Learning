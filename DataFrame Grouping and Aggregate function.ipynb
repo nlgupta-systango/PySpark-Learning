{
 "cells": [
  {
   "cell_type": "code",
   "execution_count": 1,
   "id": "f888b60a",
   "metadata": {},
   "outputs": [],
   "source": [
    "import pyspark"
   ]
  },
  {
   "cell_type": "code",
   "execution_count": 2,
   "id": "f8c7d6ee",
   "metadata": {},
   "outputs": [],
   "source": [
    "from pyspark.sql import SparkSession"
   ]
  },
  {
   "cell_type": "code",
   "execution_count": 3,
   "id": "0c84b3f8",
   "metadata": {},
   "outputs": [],
   "source": [
    "spark = SparkSession.builder.appName('Grouping').getOrCreate()"
   ]
  },
  {
   "cell_type": "code",
   "execution_count": 4,
   "id": "4c7d616e",
   "metadata": {},
   "outputs": [
    {
     "data": {
      "text/html": [
       "\n",
       "            <div>\n",
       "                <p><b>SparkSession - in-memory</b></p>\n",
       "                \n",
       "        <div>\n",
       "            <p><b>SparkContext</b></p>\n",
       "\n",
       "            <p><a href=\"http://WLAP-164:4042\">Spark UI</a></p>\n",
       "\n",
       "            <dl>\n",
       "              <dt>Version</dt>\n",
       "                <dd><code>v3.4.1</code></dd>\n",
       "              <dt>Master</dt>\n",
       "                <dd><code>local[*]</code></dd>\n",
       "              <dt>AppName</dt>\n",
       "                <dd><code>Grouping</code></dd>\n",
       "            </dl>\n",
       "        </div>\n",
       "        \n",
       "            </div>\n",
       "        "
      ],
      "text/plain": [
       "<pyspark.sql.session.SparkSession at 0x2a08872e350>"
      ]
     },
     "execution_count": 4,
     "metadata": {},
     "output_type": "execute_result"
    }
   ],
   "source": [
    "spark"
   ]
  },
  {
   "cell_type": "code",
   "execution_count": 5,
   "id": "19dc8e0f",
   "metadata": {},
   "outputs": [],
   "source": [
    "df = spark.read.csv('./CSV sample/Datasetgroup.csv',header=True,inferSchema=True)"
   ]
  },
  {
   "cell_type": "code",
   "execution_count": 6,
   "id": "e0955230",
   "metadata": {},
   "outputs": [
    {
     "data": {
      "text/plain": [
       "[('Name', 'string'), ('Departments', 'string'), ('salary', 'int')]"
      ]
     },
     "execution_count": 6,
     "metadata": {},
     "output_type": "execute_result"
    }
   ],
   "source": [
    "df.dtypes"
   ]
  },
  {
   "cell_type": "code",
   "execution_count": 7,
   "id": "4becf6ab",
   "metadata": {},
   "outputs": [
    {
     "data": {
      "text/plain": [
       "<bound method DataFrame.printSchema of DataFrame[Name: string, Departments: string, salary: int]>"
      ]
     },
     "execution_count": 7,
     "metadata": {},
     "output_type": "execute_result"
    }
   ],
   "source": [
    "df.printSchema"
   ]
  },
  {
   "cell_type": "code",
   "execution_count": 8,
   "id": "9184acf8",
   "metadata": {},
   "outputs": [
    {
     "name": "stdout",
     "output_type": "stream",
     "text": [
      "+---------+------------+------+\n",
      "|     Name| Departments|salary|\n",
      "+---------+------------+------+\n",
      "|    Krish|Data Science| 10000|\n",
      "|    Krish|         IOT|  5000|\n",
      "|   Mahesh|    Big Data|  4000|\n",
      "|    Krish|    Big Data|  4000|\n",
      "|   Mahesh|Data Science|  3000|\n",
      "|Sudhanshu|Data Science| 20000|\n",
      "|Sudhanshu|         IOT| 10000|\n",
      "|Sudhanshu|    Big Data|  5000|\n",
      "|    Sunny|Data Science| 10000|\n",
      "|    Sunny|    Big Data|  2000|\n",
      "+---------+------------+------+\n",
      "\n"
     ]
    }
   ],
   "source": [
    "df.show()"
   ]
  },
  {
   "cell_type": "code",
   "execution_count": 9,
   "id": "549af419",
   "metadata": {},
   "outputs": [
    {
     "name": "stdout",
     "output_type": "stream",
     "text": [
      "root\n",
      " |-- Name: string (nullable = true)\n",
      " |-- Departments: string (nullable = true)\n",
      " |-- salary: integer (nullable = true)\n",
      "\n"
     ]
    },
    {
     "data": {
      "text/plain": [
       "<bound method DataFrame.printSchema of DataFrame[Name: string, Departments: string, salary: int]>"
      ]
     },
     "execution_count": 9,
     "metadata": {},
     "output_type": "execute_result"
    }
   ],
   "source": [
    "df.printSchema()\n",
    "df.printSchema"
   ]
  },
  {
   "cell_type": "code",
   "execution_count": 10,
   "id": "11480abf",
   "metadata": {},
   "outputs": [
    {
     "name": "stdout",
     "output_type": "stream",
     "text": [
      "root\n",
      " |-- Name: string (nullable = true)\n",
      " |-- Departments: string (nullable = true)\n",
      " |-- salary: integer (nullable = true)\n",
      "\n"
     ]
    },
    {
     "data": {
      "text/plain": [
       "NoneType"
      ]
     },
     "execution_count": 10,
     "metadata": {},
     "output_type": "execute_result"
    }
   ],
   "source": [
    "type(df.printSchema())"
   ]
  },
  {
   "cell_type": "code",
   "execution_count": 11,
   "id": "15de7ae7",
   "metadata": {},
   "outputs": [
    {
     "name": "stdout",
     "output_type": "stream",
     "text": [
      "+---------+------------+------+\n",
      "|     Name| Departments|salary|\n",
      "+---------+------------+------+\n",
      "|    Krish|Data Science| 10000|\n",
      "|    Krish|         IOT|  5000|\n",
      "|   Mahesh|    Big Data|  4000|\n",
      "|    Krish|    Big Data|  4000|\n",
      "|   Mahesh|Data Science|  3000|\n",
      "|Sudhanshu|Data Science| 20000|\n",
      "|Sudhanshu|         IOT| 10000|\n",
      "|Sudhanshu|    Big Data|  5000|\n",
      "|    Sunny|Data Science| 10000|\n",
      "|    Sunny|    Big Data|  2000|\n",
      "+---------+------------+------+\n",
      "\n"
     ]
    }
   ],
   "source": [
    "df.show()"
   ]
  },
  {
   "cell_type": "code",
   "execution_count": 12,
   "id": "42c351df",
   "metadata": {},
   "outputs": [
    {
     "name": "stdout",
     "output_type": "stream",
     "text": [
      "+---------+-----------+\n",
      "|     Name|sum(salary)|\n",
      "+---------+-----------+\n",
      "|Sudhanshu|      35000|\n",
      "|    Sunny|      12000|\n",
      "|    Krish|      19000|\n",
      "|   Mahesh|       7000|\n",
      "+---------+-----------+\n",
      "\n"
     ]
    }
   ],
   "source": [
    "## Max salary person\n",
    "df.groupBy('Name').sum().show()"
   ]
  },
  {
   "cell_type": "code",
   "execution_count": 13,
   "id": "349d709a",
   "metadata": {},
   "outputs": [
    {
     "name": "stdout",
     "output_type": "stream",
     "text": [
      "+------------+-----------+\n",
      "| Departments|sum(salary)|\n",
      "+------------+-----------+\n",
      "|         IOT|      15000|\n",
      "|    Big Data|      15000|\n",
      "|Data Science|      43000|\n",
      "+------------+-----------+\n",
      "\n"
     ]
    }
   ],
   "source": [
    "## max salary dept wise\n",
    "df.groupBy('Departments').sum().show()"
   ]
  },
  {
   "cell_type": "code",
   "execution_count": 14,
   "id": "f09cd083",
   "metadata": {},
   "outputs": [],
   "source": [
    "## adding a extra column to check aggregreations\n",
    "df = df.withColumn('2xSalary',df['salary']*2)"
   ]
  },
  {
   "cell_type": "code",
   "execution_count": 15,
   "id": "5b6345c9",
   "metadata": {},
   "outputs": [
    {
     "name": "stdout",
     "output_type": "stream",
     "text": [
      "+---------+------------+------+--------+\n",
      "|     Name| Departments|salary|2xSalary|\n",
      "+---------+------------+------+--------+\n",
      "|    Krish|Data Science| 10000|   20000|\n",
      "|    Krish|         IOT|  5000|   10000|\n",
      "|   Mahesh|    Big Data|  4000|    8000|\n",
      "|    Krish|    Big Data|  4000|    8000|\n",
      "|   Mahesh|Data Science|  3000|    6000|\n",
      "|Sudhanshu|Data Science| 20000|   40000|\n",
      "|Sudhanshu|         IOT| 10000|   20000|\n",
      "|Sudhanshu|    Big Data|  5000|   10000|\n",
      "|    Sunny|Data Science| 10000|   20000|\n",
      "|    Sunny|    Big Data|  2000|    4000|\n",
      "+---------+------------+------+--------+\n",
      "\n"
     ]
    }
   ],
   "source": [
    "df.show()"
   ]
  },
  {
   "cell_type": "code",
   "execution_count": 16,
   "id": "9032e346",
   "metadata": {},
   "outputs": [
    {
     "name": "stdout",
     "output_type": "stream",
     "text": [
      "+---------+-----------+-------------+\n",
      "|     Name|sum(salary)|sum(2xSalary)|\n",
      "+---------+-----------+-------------+\n",
      "|Sudhanshu|      35000|        70000|\n",
      "|    Sunny|      12000|        24000|\n",
      "|    Krish|      19000|        38000|\n",
      "|   Mahesh|       7000|        14000|\n",
      "+---------+-----------+-------------+\n",
      "\n"
     ]
    }
   ],
   "source": [
    "df.groupBy('Name').sum().show()"
   ]
  },
  {
   "cell_type": "code",
   "execution_count": 17,
   "id": "ae0c2142",
   "metadata": {},
   "outputs": [
    {
     "name": "stdout",
     "output_type": "stream",
     "text": [
      "+-----------+\n",
      "|sum(salary)|\n",
      "+-----------+\n",
      "|      73000|\n",
      "+-----------+\n",
      "\n"
     ]
    }
   ],
   "source": [
    "df.agg({'salary':'sum'}).show()"
   ]
  },
  {
   "cell_type": "code",
   "execution_count": 19,
   "id": "4df25a16",
   "metadata": {},
   "outputs": [],
   "source": [
    "## operations on Task sheet\n",
    "task_df = spark.read.csv(\"./CSV sample/task.csv\",header=True,inferSchema=True)"
   ]
  },
  {
   "cell_type": "code",
   "execution_count": 20,
   "id": "ccfa0ff1",
   "metadata": {},
   "outputs": [
    {
     "name": "stdout",
     "output_type": "stream",
     "text": [
      "+--------------------+--------------------+-----------------+-----+-------+\n",
      "|             Project|               Tasks|      Responsible|Hours|  Month|\n",
      "+--------------------+--------------------+-----------------+-----+-------+\n",
      "|                null|                null|             null| null|   null|\n",
      "|             January|                null|             null| null|   null|\n",
      "|            Power BI| BRM update for 2023|Surbhi Khandelwal|    5|January|\n",
      "|            Power BI|BRM updating quer...|             null| null|   null|\n",
      "|,Surbhi Khandelwa...|                null|             null| null|   null|\n",
      "|            Power BI|BRM issue with co...|Surbhi Khandelwal|    7|January|\n",
      "|            Power BI|BRM issue with Ra...|Surbhi Khandelwal|    4|January|\n",
      "|            Power BI|Research on how t...|Surbhi Khandelwal|    4|January|\n",
      "|            Power BI| BRM add departments|Surbhi Khandelwal|    3|January|\n",
      "|            Power BI|Offer settlement ...|Surbhi Khandelwal|    4|January|\n",
      "|            Power BI|Research on sendi...|Surbhi Khandelwal|    4|January|\n",
      "|            Power BI|RLS for productiv...|Surbhi Khandelwal|  3.5|January|\n",
      "|            Power BI|Foreclosure repor...|Surbhi Khandelwal|    2|January|\n",
      "|            Power BI|BRM report - P&L ...|Surbhi Khandelwal|  5.5|January|\n",
      "|            Power BI|Research on how t...|Surbhi Khandelwal|    6|January|\n",
      "|            Power BI|    BRM report issue|Surbhi Khandelwal|    8|January|\n",
      "|            Power BI|Microsoft Azure B...|Surbhi Khandelwal|    1|January|\n",
      "|            Power BI|Research on matte...|Surbhi Khandelwal|    3|January|\n",
      "|          Power Apps| Removed Rachel G...|     Anjali Dubey|  0.5|January|\n",
      "|          Power Apps|epwander@kelleykr...|     Anjali Dubey|  0.5|January|\n",
      "+--------------------+--------------------+-----------------+-----+-------+\n",
      "only showing top 20 rows\n",
      "\n"
     ]
    }
   ],
   "source": [
    "task_df.show()"
   ]
  },
  {
   "cell_type": "code",
   "execution_count": 22,
   "id": "a088f572",
   "metadata": {},
   "outputs": [],
   "source": [
    "task_df=task_df.na.drop(subset=[\"Hours\"])"
   ]
  },
  {
   "cell_type": "code",
   "execution_count": 23,
   "id": "8acc473f",
   "metadata": {},
   "outputs": [
    {
     "data": {
      "text/plain": [
       "DataFrame[Project: string, Tasks: string, Responsible: string, Hours: string, Month: string]"
      ]
     },
     "execution_count": 23,
     "metadata": {},
     "output_type": "execute_result"
    }
   ],
   "source": [
    "task_df"
   ]
  },
  {
   "cell_type": "code",
   "execution_count": 25,
   "id": "bfd25d43",
   "metadata": {},
   "outputs": [
    {
     "name": "stdout",
     "output_type": "stream",
     "text": [
      "+----------+--------------------+-----------------+-----+-------+\n",
      "|   Project|               Tasks|      Responsible|Hours|  Month|\n",
      "+----------+--------------------+-----------------+-----+-------+\n",
      "|  Power BI| BRM update for 2023|Surbhi Khandelwal|    5|January|\n",
      "|  Power BI|BRM issue with co...|Surbhi Khandelwal|    7|January|\n",
      "|  Power BI|BRM issue with Ra...|Surbhi Khandelwal|    4|January|\n",
      "|  Power BI|Research on how t...|Surbhi Khandelwal|    4|January|\n",
      "|  Power BI| BRM add departments|Surbhi Khandelwal|    3|January|\n",
      "|  Power BI|Offer settlement ...|Surbhi Khandelwal|    4|January|\n",
      "|  Power BI|Research on sendi...|Surbhi Khandelwal|    4|January|\n",
      "|  Power BI|RLS for productiv...|Surbhi Khandelwal|  3.5|January|\n",
      "|  Power BI|Foreclosure repor...|Surbhi Khandelwal|    2|January|\n",
      "|  Power BI|BRM report - P&L ...|Surbhi Khandelwal|  5.5|January|\n",
      "|  Power BI|Research on how t...|Surbhi Khandelwal|    6|January|\n",
      "|  Power BI|    BRM report issue|Surbhi Khandelwal|    8|January|\n",
      "|  Power BI|Microsoft Azure B...|Surbhi Khandelwal|    1|January|\n",
      "|  Power BI|Research on matte...|Surbhi Khandelwal|    3|January|\n",
      "|Power Apps| Removed Rachel G...|     Anjali Dubey|  0.5|January|\n",
      "|Power Apps|epwander@kelleykr...|     Anjali Dubey|  0.5|January|\n",
      "|Power Apps| Conflict check r...|     Anjali Dubey|  1.5|January|\n",
      "|Power Apps| Opp#722662593 co...|     Anjali Dubey|    2|January|\n",
      "|Power Apps| New Hire Initial...|     Anjali Dubey|   16|January|\n",
      "|Power Apps|add BUL Distrib l...|     Anjali Dubey|    5|January|\n",
      "+----------+--------------------+-----------------+-----+-------+\n",
      "only showing top 20 rows\n",
      "\n"
     ]
    }
   ],
   "source": [
    "task_df.show()"
   ]
  },
  {
   "cell_type": "code",
   "execution_count": 26,
   "id": "76663e2a",
   "metadata": {},
   "outputs": [
    {
     "data": {
      "text/plain": [
       "DataFrame[Project: string, Tasks: string, Responsible: string, Hours: string, Month: string]"
      ]
     },
     "execution_count": 26,
     "metadata": {},
     "output_type": "execute_result"
    }
   ],
   "source": [
    "task_df\n"
   ]
  },
  {
   "cell_type": "code",
   "execution_count": 32,
   "id": "939ed8e5",
   "metadata": {},
   "outputs": [
    {
     "name": "stdout",
     "output_type": "stream",
     "text": [
      "+----------+\n",
      "|sum(hours)|\n",
      "+----------+\n",
      "|     911.1|\n",
      "+----------+\n",
      "\n"
     ]
    }
   ],
   "source": [
    "task_df.select([\"hours\"]).agg({\"hours\":\"sum\"}).show()"
   ]
  },
  {
   "cell_type": "code",
   "execution_count": 33,
   "id": "8b077ce6",
   "metadata": {},
   "outputs": [
    {
     "name": "stdout",
     "output_type": "stream",
     "text": [
      "+--------------------+\n",
      "|         Responsible|\n",
      "+--------------------+\n",
      "|                 PIP|\n",
      "|                   3|\n",
      "|                   8|\n",
      "|                0.25|\n",
      "|           resolve)\"|\n",
      "|            Illinois|\n",
      "|   Surbhi Khandelwal|\n",
      "|        Anjali Dubey|\n",
      "|test and explaine...|\n",
      "|                   6|\n",
      "|                 0.5|\n",
      "|corrected and tes...|\n",
      "|                 1.5|\n",
      "|monitor and resov...|\n",
      "|                   1|\n",
      "|             rectify|\n",
      "|                   4|\n",
      "|                  12|\n",
      "|                12.5|\n",
      "|       Neelesh Gupta|\n",
      "+--------------------+\n",
      "only showing top 20 rows\n",
      "\n"
     ]
    }
   ],
   "source": [
    "task_df.groupBy(\"Responsible\").sum().show()"
   ]
  },
  {
   "cell_type": "code",
   "execution_count": 36,
   "id": "36937953",
   "metadata": {},
   "outputs": [],
   "source": [
    "from pyspark.sql.functions import col\n",
    "\n",
    "df_hours = task_df.withColumn(\"Hours\", col(\"Hours\").cast(\"float\"))"
   ]
  },
  {
   "cell_type": "code",
   "execution_count": 37,
   "id": "000e69d3",
   "metadata": {},
   "outputs": [
    {
     "name": "stdout",
     "output_type": "stream",
     "text": [
      "+----------+--------------------+-----------------+-----+-------+\n",
      "|   Project|               Tasks|      Responsible|Hours|  Month|\n",
      "+----------+--------------------+-----------------+-----+-------+\n",
      "|  Power BI| BRM update for 2023|Surbhi Khandelwal|  5.0|January|\n",
      "|  Power BI|BRM issue with co...|Surbhi Khandelwal|  7.0|January|\n",
      "|  Power BI|BRM issue with Ra...|Surbhi Khandelwal|  4.0|January|\n",
      "|  Power BI|Research on how t...|Surbhi Khandelwal|  4.0|January|\n",
      "|  Power BI| BRM add departments|Surbhi Khandelwal|  3.0|January|\n",
      "|  Power BI|Offer settlement ...|Surbhi Khandelwal|  4.0|January|\n",
      "|  Power BI|Research on sendi...|Surbhi Khandelwal|  4.0|January|\n",
      "|  Power BI|RLS for productiv...|Surbhi Khandelwal|  3.5|January|\n",
      "|  Power BI|Foreclosure repor...|Surbhi Khandelwal|  2.0|January|\n",
      "|  Power BI|BRM report - P&L ...|Surbhi Khandelwal|  5.5|January|\n",
      "|  Power BI|Research on how t...|Surbhi Khandelwal|  6.0|January|\n",
      "|  Power BI|    BRM report issue|Surbhi Khandelwal|  8.0|January|\n",
      "|  Power BI|Microsoft Azure B...|Surbhi Khandelwal|  1.0|January|\n",
      "|  Power BI|Research on matte...|Surbhi Khandelwal|  3.0|January|\n",
      "|Power Apps| Removed Rachel G...|     Anjali Dubey|  0.5|January|\n",
      "|Power Apps|epwander@kelleykr...|     Anjali Dubey|  0.5|January|\n",
      "|Power Apps| Conflict check r...|     Anjali Dubey|  1.5|January|\n",
      "|Power Apps| Opp#722662593 co...|     Anjali Dubey|  2.0|January|\n",
      "|Power Apps| New Hire Initial...|     Anjali Dubey| 16.0|January|\n",
      "|Power Apps|add BUL Distrib l...|     Anjali Dubey|  5.0|January|\n",
      "+----------+--------------------+-----------------+-----+-------+\n",
      "only showing top 20 rows\n",
      "\n"
     ]
    }
   ],
   "source": [
    "df_hours.show()"
   ]
  },
  {
   "cell_type": "code",
   "execution_count": 38,
   "id": "5c036136",
   "metadata": {},
   "outputs": [
    {
     "name": "stdout",
     "output_type": "stream",
     "text": [
      "root\n",
      " |-- Project: string (nullable = true)\n",
      " |-- Tasks: string (nullable = true)\n",
      " |-- Responsible: string (nullable = true)\n",
      " |-- Hours: float (nullable = true)\n",
      " |-- Month: string (nullable = true)\n",
      "\n"
     ]
    }
   ],
   "source": [
    "df_hours.printSchema()"
   ]
  },
  {
   "cell_type": "code",
   "execution_count": 48,
   "id": "679b854e",
   "metadata": {},
   "outputs": [
    {
     "name": "stdout",
     "output_type": "stream",
     "text": [
      "+-----+----------+\n",
      "|Month|sum(Hours)|\n",
      "+-----+----------+\n",
      "| July|     105.0|\n",
      "|    3|      null|\n",
      "|    8|      null|\n",
      "+-----+----------+\n",
      "only showing top 3 rows\n",
      "\n"
     ]
    }
   ],
   "source": [
    "df_hours.groupBy(\"Month\").sum().show(3)"
   ]
  },
  {
   "cell_type": "markdown",
   "id": "9778f19c",
   "metadata": {},
   "source": []
  }
 ],
 "metadata": {
  "kernelspec": {
   "display_name": "Python 3 (ipykernel)",
   "language": "python",
   "name": "python3"
  },
  "language_info": {
   "codemirror_mode": {
    "name": "ipython",
    "version": 3
   },
   "file_extension": ".py",
   "mimetype": "text/x-python",
   "name": "python",
   "nbconvert_exporter": "python",
   "pygments_lexer": "ipython3",
   "version": "3.11.4"
  }
 },
 "nbformat": 4,
 "nbformat_minor": 5
}
