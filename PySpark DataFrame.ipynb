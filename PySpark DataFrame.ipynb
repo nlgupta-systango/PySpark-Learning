{
 "cells": [
  {
   "cell_type": "code",
   "execution_count": 1,
   "id": "376c3fca",
   "metadata": {},
   "outputs": [],
   "source": [
    "import pyspark"
   ]
  },
  {
   "cell_type": "code",
   "execution_count": 2,
   "id": "c8dc18e3",
   "metadata": {},
   "outputs": [],
   "source": [
    "from pyspark.sql import SparkSession"
   ]
  },
  {
   "cell_type": "code",
   "execution_count": 3,
   "id": "1303c2a5",
   "metadata": {},
   "outputs": [],
   "source": [
    "spark = SparkSession.builder.appName('Pyspark_DataFrame').getOrCreate()"
   ]
  },
  {
   "cell_type": "code",
   "execution_count": 4,
   "id": "4c17f5ed",
   "metadata": {},
   "outputs": [
    {
     "data": {
      "text/html": [
       "\n",
       "            <div>\n",
       "                <p><b>SparkSession - in-memory</b></p>\n",
       "                \n",
       "        <div>\n",
       "            <p><b>SparkContext</b></p>\n",
       "\n",
       "            <p><a href=\"http://WLAP-164:4040\">Spark UI</a></p>\n",
       "\n",
       "            <dl>\n",
       "              <dt>Version</dt>\n",
       "                <dd><code>v3.4.1</code></dd>\n",
       "              <dt>Master</dt>\n",
       "                <dd><code>local[*]</code></dd>\n",
       "              <dt>AppName</dt>\n",
       "                <dd><code>Pyspark_DataFrame</code></dd>\n",
       "            </dl>\n",
       "        </div>\n",
       "        \n",
       "            </div>\n",
       "        "
      ],
      "text/plain": [
       "<pyspark.sql.session.SparkSession at 0x277863cb6d0>"
      ]
     },
     "execution_count": 4,
     "metadata": {},
     "output_type": "execute_result"
    }
   ],
   "source": [
    "spark"
   ]
  },
  {
   "cell_type": "code",
   "execution_count": 5,
   "id": "47b226eb",
   "metadata": {},
   "outputs": [],
   "source": [
    "df_read = spark.read.csv('./CSV sample/task.csv')\n"
   ]
  },
  {
   "cell_type": "code",
   "execution_count": 6,
   "id": "16e2e745",
   "metadata": {},
   "outputs": [
    {
     "name": "stdout",
     "output_type": "stream",
     "text": [
      "+--------------------+--------------------+-----------------+-----+-------+\n",
      "|                 _c0|                 _c1|              _c2|  _c3|    _c4|\n",
      "+--------------------+--------------------+-----------------+-----+-------+\n",
      "|             Project|               Tasks|      Responsible|Hours|  Month|\n",
      "|                null|                null|             null| null|   null|\n",
      "|             January|                null|             null| null|   null|\n",
      "|            Power BI| BRM update for 2023|Surbhi Khandelwal|    5|January|\n",
      "|            Power BI|BRM updating quer...|             null| null|   null|\n",
      "|,Surbhi Khandelwa...|                null|             null| null|   null|\n",
      "|            Power BI|BRM issue with co...|Surbhi Khandelwal|    7|January|\n",
      "|            Power BI|BRM issue with Ra...|Surbhi Khandelwal|    4|January|\n",
      "|            Power BI|Research on how t...|Surbhi Khandelwal|    4|January|\n",
      "|            Power BI| BRM add departments|Surbhi Khandelwal|    3|January|\n",
      "|            Power BI|Offer settlement ...|Surbhi Khandelwal|    4|January|\n",
      "|            Power BI|Research on sendi...|Surbhi Khandelwal|    4|January|\n",
      "|            Power BI|RLS for productiv...|Surbhi Khandelwal|  3.5|January|\n",
      "|            Power BI|Foreclosure repor...|Surbhi Khandelwal|    2|January|\n",
      "|            Power BI|BRM report - P&L ...|Surbhi Khandelwal|  5.5|January|\n",
      "|            Power BI|Research on how t...|Surbhi Khandelwal|    6|January|\n",
      "|            Power BI|    BRM report issue|Surbhi Khandelwal|    8|January|\n",
      "|            Power BI|Microsoft Azure B...|Surbhi Khandelwal|    1|January|\n",
      "|            Power BI|Research on matte...|Surbhi Khandelwal|    3|January|\n",
      "|          Power Apps| Removed Rachel G...|     Anjali Dubey|  0.5|January|\n",
      "+--------------------+--------------------+-----------------+-----+-------+\n",
      "only showing top 20 rows\n",
      "\n"
     ]
    }
   ],
   "source": [
    "df_read.show()"
   ]
  },
  {
   "cell_type": "code",
   "execution_count": 7,
   "id": "cde352de",
   "metadata": {},
   "outputs": [
    {
     "data": {
      "text/plain": [
       "pyspark.sql.dataframe.DataFrame"
      ]
     },
     "execution_count": 7,
     "metadata": {},
     "output_type": "execute_result"
    }
   ],
   "source": [
    "type(df_read)"
   ]
  },
  {
   "cell_type": "code",
   "execution_count": 8,
   "id": "0f94be75",
   "metadata": {},
   "outputs": [],
   "source": [
    "#way 2 of reading \n",
    "df_spark = spark.read.option('header','true').csv('./CSV sample/task.csv')"
   ]
  },
  {
   "cell_type": "code",
   "execution_count": 9,
   "id": "3b0c9b23",
   "metadata": {},
   "outputs": [
    {
     "data": {
      "text/plain": [
       "DataFrame[Project: string, Tasks: string, Responsible: string, Hours: string, Month: string]"
      ]
     },
     "execution_count": 9,
     "metadata": {},
     "output_type": "execute_result"
    }
   ],
   "source": [
    "df_spark"
   ]
  },
  {
   "cell_type": "code",
   "execution_count": 10,
   "id": "368118e7",
   "metadata": {},
   "outputs": [
    {
     "data": {
      "text/plain": [
       "pyspark.sql.dataframe.DataFrame"
      ]
     },
     "execution_count": 10,
     "metadata": {},
     "output_type": "execute_result"
    }
   ],
   "source": [
    "type(df_spark)"
   ]
  },
  {
   "cell_type": "code",
   "execution_count": 11,
   "id": "391d6f93",
   "metadata": {},
   "outputs": [
    {
     "data": {
      "text/plain": [
       "pyspark.sql.dataframe.DataFrame"
      ]
     },
     "execution_count": 11,
     "metadata": {},
     "output_type": "execute_result"
    }
   ],
   "source": [
    "type(df_read)"
   ]
  },
  {
   "cell_type": "code",
   "execution_count": 12,
   "id": "a8341390",
   "metadata": {},
   "outputs": [
    {
     "name": "stdout",
     "output_type": "stream",
     "text": [
      "+--------------------+--------------------+-----------------+-----+-------+\n",
      "|             Project|               Tasks|      Responsible|Hours|  Month|\n",
      "+--------------------+--------------------+-----------------+-----+-------+\n",
      "|                null|                null|             null| null|   null|\n",
      "|             January|                null|             null| null|   null|\n",
      "|            Power BI| BRM update for 2023|Surbhi Khandelwal|    5|January|\n",
      "|            Power BI|BRM updating quer...|             null| null|   null|\n",
      "|,Surbhi Khandelwa...|                null|             null| null|   null|\n",
      "|            Power BI|BRM issue with co...|Surbhi Khandelwal|    7|January|\n",
      "|            Power BI|BRM issue with Ra...|Surbhi Khandelwal|    4|January|\n",
      "|            Power BI|Research on how t...|Surbhi Khandelwal|    4|January|\n",
      "|            Power BI| BRM add departments|Surbhi Khandelwal|    3|January|\n",
      "|            Power BI|Offer settlement ...|Surbhi Khandelwal|    4|January|\n",
      "|            Power BI|Research on sendi...|Surbhi Khandelwal|    4|January|\n",
      "|            Power BI|RLS for productiv...|Surbhi Khandelwal|  3.5|January|\n",
      "|            Power BI|Foreclosure repor...|Surbhi Khandelwal|    2|January|\n",
      "|            Power BI|BRM report - P&L ...|Surbhi Khandelwal|  5.5|January|\n",
      "|            Power BI|Research on how t...|Surbhi Khandelwal|    6|January|\n",
      "|            Power BI|    BRM report issue|Surbhi Khandelwal|    8|January|\n",
      "|            Power BI|Microsoft Azure B...|Surbhi Khandelwal|    1|January|\n",
      "|            Power BI|Research on matte...|Surbhi Khandelwal|    3|January|\n",
      "|          Power Apps| Removed Rachel G...|     Anjali Dubey|  0.5|January|\n",
      "|          Power Apps|epwander@kelleykr...|     Anjali Dubey|  0.5|January|\n",
      "+--------------------+--------------------+-----------------+-----+-------+\n",
      "only showing top 20 rows\n",
      "\n"
     ]
    }
   ],
   "source": [
    "df_spark.show()"
   ]
  },
  {
   "cell_type": "code",
   "execution_count": 13,
   "id": "2791b50b",
   "metadata": {},
   "outputs": [
    {
     "data": {
      "text/plain": [
       "333"
      ]
     },
     "execution_count": 13,
     "metadata": {},
     "output_type": "execute_result"
    }
   ],
   "source": [
    "df_spark.count()"
   ]
  },
  {
   "cell_type": "code",
   "execution_count": 14,
   "id": "c04655f5",
   "metadata": {},
   "outputs": [
    {
     "name": "stdout",
     "output_type": "stream",
     "text": [
      "root\n",
      " |-- Project: string (nullable = true)\n",
      " |-- Tasks: string (nullable = true)\n",
      " |-- Responsible: string (nullable = true)\n",
      " |-- Hours: string (nullable = true)\n",
      " |-- Month: string (nullable = true)\n",
      "\n"
     ]
    }
   ],
   "source": [
    "df_spark.printSchema()"
   ]
  },
  {
   "cell_type": "code",
   "execution_count": 15,
   "id": "2e84e588",
   "metadata": {},
   "outputs": [
    {
     "name": "stdout",
     "output_type": "stream",
     "text": [
      "+--------------------+--------------------+-----------------+-----+-------+\n",
      "|             Project|               Tasks|      Responsible|Hours|  Month|\n",
      "+--------------------+--------------------+-----------------+-----+-------+\n",
      "|                null|                null|             null| null|   null|\n",
      "|             January|                null|             null| null|   null|\n",
      "|            Power BI| BRM update for 2023|Surbhi Khandelwal|    5|January|\n",
      "|            Power BI|BRM updating quer...|             null| null|   null|\n",
      "|,Surbhi Khandelwa...|                null|             null| null|   null|\n",
      "|            Power BI|BRM issue with co...|Surbhi Khandelwal|    7|January|\n",
      "|            Power BI|BRM issue with Ra...|Surbhi Khandelwal|    4|January|\n",
      "|            Power BI|Research on how t...|Surbhi Khandelwal|    4|January|\n",
      "|            Power BI| BRM add departments|Surbhi Khandelwal|    3|January|\n",
      "|            Power BI|Offer settlement ...|Surbhi Khandelwal|    4|January|\n",
      "|            Power BI|Research on sendi...|Surbhi Khandelwal|    4|January|\n",
      "|            Power BI|RLS for productiv...|Surbhi Khandelwal|  3.5|January|\n",
      "|            Power BI|Foreclosure repor...|Surbhi Khandelwal|    2|January|\n",
      "|            Power BI|BRM report - P&L ...|Surbhi Khandelwal|  5.5|January|\n",
      "|            Power BI|Research on how t...|Surbhi Khandelwal|    6|January|\n",
      "|            Power BI|    BRM report issue|Surbhi Khandelwal|    8|January|\n",
      "|            Power BI|Microsoft Azure B...|Surbhi Khandelwal|    1|January|\n",
      "|            Power BI|Research on matte...|Surbhi Khandelwal|    3|January|\n",
      "|          Power Apps| Removed Rachel G...|     Anjali Dubey|  0.5|January|\n",
      "|          Power Apps|epwander@kelleykr...|     Anjali Dubey|  0.5|January|\n",
      "+--------------------+--------------------+-----------------+-----+-------+\n",
      "only showing top 20 rows\n",
      "\n"
     ]
    },
    {
     "data": {
      "text/plain": [
       "NoneType"
      ]
     },
     "execution_count": 15,
     "metadata": {},
     "output_type": "execute_result"
    }
   ],
   "source": [
    "type(df_spark.show())"
   ]
  },
  {
   "cell_type": "code",
   "execution_count": 16,
   "id": "715a8e53",
   "metadata": {},
   "outputs": [],
   "source": [
    "df = spark.read.option('header','true').csv('./CSV sample/task.csv',inferSchema=True)"
   ]
  },
  {
   "cell_type": "code",
   "execution_count": 17,
   "id": "71454ef4",
   "metadata": {},
   "outputs": [
    {
     "data": {
      "text/plain": [
       "DataFrame[Project: string, Tasks: string, Responsible: string, Hours: string, Month: string]"
      ]
     },
     "execution_count": 17,
     "metadata": {},
     "output_type": "execute_result"
    }
   ],
   "source": [
    "df\n"
   ]
  },
  {
   "cell_type": "code",
   "execution_count": 18,
   "id": "4b06b700",
   "metadata": {},
   "outputs": [
    {
     "name": "stdout",
     "output_type": "stream",
     "text": [
      "root\n",
      " |-- Project: string (nullable = true)\n",
      " |-- Tasks: string (nullable = true)\n",
      " |-- Responsible: string (nullable = true)\n",
      " |-- Hours: string (nullable = true)\n",
      " |-- Month: string (nullable = true)\n",
      "\n"
     ]
    }
   ],
   "source": [
    "df.printSchema()"
   ]
  },
  {
   "cell_type": "code",
   "execution_count": 19,
   "id": "1ae74661",
   "metadata": {},
   "outputs": [
    {
     "data": {
      "text/plain": [
       "['Project', 'Tasks', 'Responsible', 'Hours', 'Month']"
      ]
     },
     "execution_count": 19,
     "metadata": {},
     "output_type": "execute_result"
    }
   ],
   "source": [
    "df.columns\n"
   ]
  },
  {
   "cell_type": "code",
   "execution_count": 20,
   "id": "c5b5dacd",
   "metadata": {},
   "outputs": [
    {
     "data": {
      "text/plain": [
       "list"
      ]
     },
     "execution_count": 20,
     "metadata": {},
     "output_type": "execute_result"
    }
   ],
   "source": [
    "type(df.columns)"
   ]
  },
  {
   "cell_type": "code",
   "execution_count": 21,
   "id": "f9692586",
   "metadata": {},
   "outputs": [
    {
     "data": {
      "text/plain": [
       "[Row(Project=None, Tasks=None, Responsible=None, Hours=None, Month=None),\n",
       " Row(Project='January', Tasks=None, Responsible=None, Hours=None, Month=None),\n",
       " Row(Project='Power BI', Tasks='BRM update for 2023', Responsible='Surbhi Khandelwal', Hours='5', Month='January'),\n",
       " Row(Project='Power BI', Tasks='BRM updating query to include prev year data along with adding year column', Responsible=None, Hours=None, Month=None)]"
      ]
     },
     "execution_count": 21,
     "metadata": {},
     "output_type": "execute_result"
    }
   ],
   "source": [
    "df.head(4)"
   ]
  },
  {
   "cell_type": "code",
   "execution_count": 22,
   "id": "622bb48a",
   "metadata": {},
   "outputs": [
    {
     "data": {
      "text/plain": [
       "Row(Project=None, Tasks=None, Responsible=None, Hours=None, Month=None)"
      ]
     },
     "execution_count": 22,
     "metadata": {},
     "output_type": "execute_result"
    }
   ],
   "source": [
    "df.head()"
   ]
  },
  {
   "cell_type": "code",
   "execution_count": 23,
   "id": "e281284d",
   "metadata": {},
   "outputs": [
    {
     "name": "stdout",
     "output_type": "stream",
     "text": [
      "+--------------------+\n",
      "|             Project|\n",
      "+--------------------+\n",
      "|                null|\n",
      "|             January|\n",
      "|            Power BI|\n",
      "|            Power BI|\n",
      "|,Surbhi Khandelwa...|\n",
      "|            Power BI|\n",
      "|            Power BI|\n",
      "|            Power BI|\n",
      "|            Power BI|\n",
      "|            Power BI|\n",
      "|            Power BI|\n",
      "|            Power BI|\n",
      "|            Power BI|\n",
      "|            Power BI|\n",
      "|            Power BI|\n",
      "|            Power BI|\n",
      "|            Power BI|\n",
      "|            Power BI|\n",
      "|          Power Apps|\n",
      "|          Power Apps|\n",
      "+--------------------+\n",
      "only showing top 20 rows\n",
      "\n"
     ]
    }
   ],
   "source": [
    "df.select('Project').show()"
   ]
  },
  {
   "cell_type": "code",
   "execution_count": 24,
   "id": "631fe761",
   "metadata": {},
   "outputs": [
    {
     "name": "stdout",
     "output_type": "stream",
     "text": [
      "root\n",
      " |-- Project: string (nullable = true)\n",
      " |-- Tasks: string (nullable = true)\n",
      " |-- Responsible: string (nullable = true)\n",
      " |-- Hours: string (nullable = true)\n",
      " |-- Month: string (nullable = true)\n",
      "\n"
     ]
    }
   ],
   "source": [
    "df.printSchema()"
   ]
  },
  {
   "cell_type": "code",
   "execution_count": 25,
   "id": "0a30f1a3",
   "metadata": {},
   "outputs": [],
   "source": [
    "tasks_col = df.select('Tasks')"
   ]
  },
  {
   "cell_type": "code",
   "execution_count": 26,
   "id": "539e636a",
   "metadata": {},
   "outputs": [
    {
     "data": {
      "text/plain": [
       "DataFrame[Tasks: string]"
      ]
     },
     "execution_count": 26,
     "metadata": {},
     "output_type": "execute_result"
    }
   ],
   "source": [
    "tasks_col"
   ]
  },
  {
   "cell_type": "code",
   "execution_count": 27,
   "id": "06e35d6e",
   "metadata": {},
   "outputs": [
    {
     "data": {
      "text/plain": [
       "pyspark.sql.dataframe.DataFrame"
      ]
     },
     "execution_count": 27,
     "metadata": {},
     "output_type": "execute_result"
    }
   ],
   "source": [
    "type(tasks_col)"
   ]
  },
  {
   "cell_type": "code",
   "execution_count": 28,
   "id": "271b5e42",
   "metadata": {},
   "outputs": [
    {
     "name": "stdout",
     "output_type": "stream",
     "text": [
      "+--------------------+\n",
      "|               Tasks|\n",
      "+--------------------+\n",
      "|                null|\n",
      "|                null|\n",
      "| BRM update for 2023|\n",
      "|BRM updating quer...|\n",
      "|                null|\n",
      "|BRM issue with co...|\n",
      "|BRM issue with Ra...|\n",
      "|Research on how t...|\n",
      "| BRM add departments|\n",
      "|Offer settlement ...|\n",
      "|Research on sendi...|\n",
      "|RLS for productiv...|\n",
      "|Foreclosure repor...|\n",
      "|BRM report - P&L ...|\n",
      "|Research on how t...|\n",
      "|    BRM report issue|\n",
      "|Microsoft Azure B...|\n",
      "|Research on matte...|\n",
      "| Removed Rachel G...|\n",
      "|epwander@kelleykr...|\n",
      "+--------------------+\n",
      "only showing top 20 rows\n",
      "\n"
     ]
    }
   ],
   "source": [
    "tasks_col.show()"
   ]
  },
  {
   "cell_type": "code",
   "execution_count": 29,
   "id": "645209f2",
   "metadata": {},
   "outputs": [
    {
     "data": {
      "text/plain": [
       "DataFrame[hours: string, Project: string]"
      ]
     },
     "execution_count": 29,
     "metadata": {},
     "output_type": "execute_result"
    }
   ],
   "source": [
    "df.select(['hours','Project'])\n",
    "#type(df.select(['hours','Project']))\n",
    "#df.select(['hours','Project']).show()"
   ]
  },
  {
   "cell_type": "code",
   "execution_count": 30,
   "id": "753993ff",
   "metadata": {},
   "outputs": [
    {
     "data": {
      "text/plain": [
       "pyspark.sql.dataframe.DataFrame"
      ]
     },
     "execution_count": 30,
     "metadata": {},
     "output_type": "execute_result"
    }
   ],
   "source": [
    "type(df.select(['hours','Project']))"
   ]
  },
  {
   "cell_type": "code",
   "execution_count": 31,
   "id": "a7b654bf",
   "metadata": {},
   "outputs": [],
   "source": [
    "dummy = df.select(['hours','Project'])"
   ]
  },
  {
   "cell_type": "code",
   "execution_count": 32,
   "id": "97f51455",
   "metadata": {},
   "outputs": [
    {
     "data": {
      "text/plain": [
       "DataFrame[hours: string, Project: string]"
      ]
     },
     "execution_count": 32,
     "metadata": {},
     "output_type": "execute_result"
    }
   ],
   "source": [
    "dummy"
   ]
  },
  {
   "cell_type": "code",
   "execution_count": 33,
   "id": "42888c6d",
   "metadata": {},
   "outputs": [
    {
     "name": "stdout",
     "output_type": "stream",
     "text": [
      "root\n",
      " |-- hours: string (nullable = true)\n",
      " |-- Project: string (nullable = true)\n",
      "\n"
     ]
    }
   ],
   "source": [
    "dummy.printSchema()"
   ]
  },
  {
   "cell_type": "code",
   "execution_count": 34,
   "id": "db5cc0e7",
   "metadata": {},
   "outputs": [
    {
     "name": "stdout",
     "output_type": "stream",
     "text": [
      "+--------------------+\n",
      "|             Project|\n",
      "+--------------------+\n",
      "|                null|\n",
      "|             January|\n",
      "|            Power BI|\n",
      "|            Power BI|\n",
      "|,Surbhi Khandelwa...|\n",
      "|            Power BI|\n",
      "|            Power BI|\n",
      "|            Power BI|\n",
      "|            Power BI|\n",
      "|            Power BI|\n",
      "|            Power BI|\n",
      "|            Power BI|\n",
      "|            Power BI|\n",
      "|            Power BI|\n",
      "|            Power BI|\n",
      "|            Power BI|\n",
      "|            Power BI|\n",
      "|            Power BI|\n",
      "|          Power Apps|\n",
      "|          Power Apps|\n",
      "+--------------------+\n",
      "only showing top 20 rows\n",
      "\n"
     ]
    }
   ],
   "source": [
    "dummy.select('Project').show()"
   ]
  },
  {
   "cell_type": "code",
   "execution_count": 35,
   "id": "d3d41ce9",
   "metadata": {},
   "outputs": [
    {
     "name": "stdout",
     "output_type": "stream",
     "text": [
      "+--------------------+--------------------+-----------------+-----+-------+\n",
      "|             Project|               Tasks|      Responsible|Hours|  Month|\n",
      "+--------------------+--------------------+-----------------+-----+-------+\n",
      "|                null|                null|             null| null|   null|\n",
      "|             January|                null|             null| null|   null|\n",
      "|            Power BI| BRM update for 2023|Surbhi Khandelwal|    5|January|\n",
      "|            Power BI|BRM updating quer...|             null| null|   null|\n",
      "|,Surbhi Khandelwa...|                null|             null| null|   null|\n",
      "|            Power BI|BRM issue with co...|Surbhi Khandelwal|    7|January|\n",
      "|            Power BI|BRM issue with Ra...|Surbhi Khandelwal|    4|January|\n",
      "|            Power BI|Research on how t...|Surbhi Khandelwal|    4|January|\n",
      "|            Power BI| BRM add departments|Surbhi Khandelwal|    3|January|\n",
      "|            Power BI|Offer settlement ...|Surbhi Khandelwal|    4|January|\n",
      "|            Power BI|Research on sendi...|Surbhi Khandelwal|    4|January|\n",
      "|            Power BI|RLS for productiv...|Surbhi Khandelwal|  3.5|January|\n",
      "|            Power BI|Foreclosure repor...|Surbhi Khandelwal|    2|January|\n",
      "|            Power BI|BRM report - P&L ...|Surbhi Khandelwal|  5.5|January|\n",
      "|            Power BI|Research on how t...|Surbhi Khandelwal|    6|January|\n",
      "|            Power BI|    BRM report issue|Surbhi Khandelwal|    8|January|\n",
      "|            Power BI|Microsoft Azure B...|Surbhi Khandelwal|    1|January|\n",
      "|            Power BI|Research on matte...|Surbhi Khandelwal|    3|January|\n",
      "|          Power Apps| Removed Rachel G...|     Anjali Dubey|  0.5|January|\n",
      "|          Power Apps|epwander@kelleykr...|     Anjali Dubey|  0.5|January|\n",
      "+--------------------+--------------------+-----------------+-----+-------+\n",
      "only showing top 20 rows\n",
      "\n"
     ]
    }
   ],
   "source": [
    "df.show()"
   ]
  },
  {
   "cell_type": "code",
   "execution_count": 36,
   "id": "798f40ed",
   "metadata": {},
   "outputs": [],
   "source": [
    "df = df.withColumn('Hours-2',df['Hours']-2)"
   ]
  },
  {
   "cell_type": "code",
   "execution_count": 37,
   "id": "8305814b",
   "metadata": {},
   "outputs": [
    {
     "data": {
      "text/plain": [
       "DataFrame[Project: string, Tasks: string, Responsible: string, Hours: string, Month: string, Hours-2: double]"
      ]
     },
     "execution_count": 37,
     "metadata": {},
     "output_type": "execute_result"
    }
   ],
   "source": [
    "df"
   ]
  },
  {
   "cell_type": "code",
   "execution_count": 38,
   "id": "bf0aafa9",
   "metadata": {},
   "outputs": [
    {
     "name": "stdout",
     "output_type": "stream",
     "text": [
      "+--------------------+--------------------+-----------------+-----+-------+-------+\n",
      "|             Project|               Tasks|      Responsible|Hours|  Month|Hours-2|\n",
      "+--------------------+--------------------+-----------------+-----+-------+-------+\n",
      "|                null|                null|             null| null|   null|   null|\n",
      "|             January|                null|             null| null|   null|   null|\n",
      "|            Power BI| BRM update for 2023|Surbhi Khandelwal|    5|January|    3.0|\n",
      "|            Power BI|BRM updating quer...|             null| null|   null|   null|\n",
      "|,Surbhi Khandelwa...|                null|             null| null|   null|   null|\n",
      "|            Power BI|BRM issue with co...|Surbhi Khandelwal|    7|January|    5.0|\n",
      "|            Power BI|BRM issue with Ra...|Surbhi Khandelwal|    4|January|    2.0|\n",
      "|            Power BI|Research on how t...|Surbhi Khandelwal|    4|January|    2.0|\n",
      "|            Power BI| BRM add departments|Surbhi Khandelwal|    3|January|    1.0|\n",
      "|            Power BI|Offer settlement ...|Surbhi Khandelwal|    4|January|    2.0|\n",
      "|            Power BI|Research on sendi...|Surbhi Khandelwal|    4|January|    2.0|\n",
      "|            Power BI|RLS for productiv...|Surbhi Khandelwal|  3.5|January|    1.5|\n",
      "|            Power BI|Foreclosure repor...|Surbhi Khandelwal|    2|January|    0.0|\n",
      "|            Power BI|BRM report - P&L ...|Surbhi Khandelwal|  5.5|January|    3.5|\n",
      "|            Power BI|Research on how t...|Surbhi Khandelwal|    6|January|    4.0|\n",
      "|            Power BI|    BRM report issue|Surbhi Khandelwal|    8|January|    6.0|\n",
      "|            Power BI|Microsoft Azure B...|Surbhi Khandelwal|    1|January|   -1.0|\n",
      "|            Power BI|Research on matte...|Surbhi Khandelwal|    3|January|    1.0|\n",
      "|          Power Apps| Removed Rachel G...|     Anjali Dubey|  0.5|January|   -1.5|\n",
      "|          Power Apps|epwander@kelleykr...|     Anjali Dubey|  0.5|January|   -1.5|\n",
      "+--------------------+--------------------+-----------------+-----+-------+-------+\n",
      "only showing top 20 rows\n",
      "\n"
     ]
    }
   ],
   "source": [
    "df.show()"
   ]
  },
  {
   "cell_type": "code",
   "execution_count": 39,
   "id": "808296d6",
   "metadata": {},
   "outputs": [
    {
     "name": "stdout",
     "output_type": "stream",
     "text": [
      "+--------------------+--------------------+-----------------+-----+-------+-------+\n",
      "|             Project|               Tasks|      Responsible|Hours|  Month|Hours-2|\n",
      "+--------------------+--------------------+-----------------+-----+-------+-------+\n",
      "|                null|                null|             null| null|   null|   null|\n",
      "|             January|                null|             null| null|   null|   null|\n",
      "|            Power BI| BRM update for 2023|Surbhi Khandelwal|    5|January|    3.0|\n",
      "|            Power BI|BRM updating quer...|             null| null|   null|   null|\n",
      "|,Surbhi Khandelwa...|                null|             null| null|   null|   null|\n",
      "|            Power BI|BRM issue with co...|Surbhi Khandelwal|    7|January|    5.0|\n",
      "|            Power BI|BRM issue with Ra...|Surbhi Khandelwal|    4|January|    2.0|\n",
      "|            Power BI|Research on how t...|Surbhi Khandelwal|    4|January|    2.0|\n",
      "|            Power BI| BRM add departments|Surbhi Khandelwal|    3|January|    1.0|\n",
      "|            Power BI|Offer settlement ...|Surbhi Khandelwal|    4|January|    2.0|\n",
      "|            Power BI|Research on sendi...|Surbhi Khandelwal|    4|January|    2.0|\n",
      "|            Power BI|RLS for productiv...|Surbhi Khandelwal|  3.5|January|    1.5|\n",
      "|            Power BI|Foreclosure repor...|Surbhi Khandelwal|    2|January|    0.0|\n",
      "|            Power BI|BRM report - P&L ...|Surbhi Khandelwal|  5.5|January|    3.5|\n",
      "|            Power BI|Research on how t...|Surbhi Khandelwal|    6|January|    4.0|\n",
      "|            Power BI|    BRM report issue|Surbhi Khandelwal|    8|January|    6.0|\n",
      "|            Power BI|Microsoft Azure B...|Surbhi Khandelwal|    1|January|   -1.0|\n",
      "|            Power BI|Research on matte...|Surbhi Khandelwal|    3|January|    1.0|\n",
      "|          Power Apps| Removed Rachel G...|     Anjali Dubey|  0.5|January|   -1.5|\n",
      "|          Power Apps|epwander@kelleykr...|     Anjali Dubey|  0.5|January|   -1.5|\n",
      "+--------------------+--------------------+-----------------+-----+-------+-------+\n",
      "only showing top 20 rows\n",
      "\n"
     ]
    }
   ],
   "source": [
    "df.show()"
   ]
  },
  {
   "cell_type": "code",
   "execution_count": 40,
   "id": "cc83092b",
   "metadata": {},
   "outputs": [
    {
     "data": {
      "text/plain": [
       "DataFrame[Project: string, Tasks: string, Responsible: string, Hours: string, Month: string]"
      ]
     },
     "execution_count": 40,
     "metadata": {},
     "output_type": "execute_result"
    }
   ],
   "source": [
    "df.drop('Hours-2')"
   ]
  },
  {
   "cell_type": "code",
   "execution_count": 41,
   "id": "8f467216",
   "metadata": {},
   "outputs": [
    {
     "data": {
      "text/plain": [
       "pyspark.sql.dataframe.DataFrame"
      ]
     },
     "execution_count": 41,
     "metadata": {},
     "output_type": "execute_result"
    }
   ],
   "source": [
    "type(df)\n"
   ]
  },
  {
   "cell_type": "code",
   "execution_count": 42,
   "id": "537e6b69",
   "metadata": {},
   "outputs": [],
   "source": [
    "df = df.withColumnRenamed('Hours','Real Hours')"
   ]
  },
  {
   "cell_type": "code",
   "execution_count": 43,
   "id": "9839136b",
   "metadata": {},
   "outputs": [],
   "source": [
    "df = df.drop('Month')"
   ]
  },
  {
   "cell_type": "code",
   "execution_count": 44,
   "id": "796e6fca",
   "metadata": {},
   "outputs": [
    {
     "name": "stdout",
     "output_type": "stream",
     "text": [
      "+--------------------+--------------------+-----------------+----------+-------+\n",
      "|             Project|               Tasks|      Responsible|Real Hours|Hours-2|\n",
      "+--------------------+--------------------+-----------------+----------+-------+\n",
      "|                null|                null|             null|      null|   null|\n",
      "|             January|                null|             null|      null|   null|\n",
      "|            Power BI| BRM update for 2023|Surbhi Khandelwal|         5|    3.0|\n",
      "|            Power BI|BRM updating quer...|             null|      null|   null|\n",
      "|,Surbhi Khandelwa...|                null|             null|      null|   null|\n",
      "|            Power BI|BRM issue with co...|Surbhi Khandelwal|         7|    5.0|\n",
      "|            Power BI|BRM issue with Ra...|Surbhi Khandelwal|         4|    2.0|\n",
      "|            Power BI|Research on how t...|Surbhi Khandelwal|         4|    2.0|\n",
      "|            Power BI| BRM add departments|Surbhi Khandelwal|         3|    1.0|\n",
      "|            Power BI|Offer settlement ...|Surbhi Khandelwal|         4|    2.0|\n",
      "|            Power BI|Research on sendi...|Surbhi Khandelwal|         4|    2.0|\n",
      "|            Power BI|RLS for productiv...|Surbhi Khandelwal|       3.5|    1.5|\n",
      "|            Power BI|Foreclosure repor...|Surbhi Khandelwal|         2|    0.0|\n",
      "|            Power BI|BRM report - P&L ...|Surbhi Khandelwal|       5.5|    3.5|\n",
      "|            Power BI|Research on how t...|Surbhi Khandelwal|         6|    4.0|\n",
      "|            Power BI|    BRM report issue|Surbhi Khandelwal|         8|    6.0|\n",
      "|            Power BI|Microsoft Azure B...|Surbhi Khandelwal|         1|   -1.0|\n",
      "|            Power BI|Research on matte...|Surbhi Khandelwal|         3|    1.0|\n",
      "|          Power Apps| Removed Rachel G...|     Anjali Dubey|       0.5|   -1.5|\n",
      "|          Power Apps|epwander@kelleykr...|     Anjali Dubey|       0.5|   -1.5|\n",
      "+--------------------+--------------------+-----------------+----------+-------+\n",
      "only showing top 20 rows\n",
      "\n"
     ]
    }
   ],
   "source": [
    "df.show()"
   ]
  },
  {
   "cell_type": "code",
   "execution_count": 45,
   "id": "31114265",
   "metadata": {},
   "outputs": [],
   "source": [
    "# drop_col = [\"Tasks\",\"Project\"]\n",
    "df = df.drop(*[\"Tasks\",\"Project\"])"
   ]
  },
  {
   "cell_type": "code",
   "execution_count": 46,
   "id": "805631f9",
   "metadata": {},
   "outputs": [
    {
     "name": "stdout",
     "output_type": "stream",
     "text": [
      "+-----------------+----------+-------+\n",
      "|      Responsible|Real Hours|Hours-2|\n",
      "+-----------------+----------+-------+\n",
      "|             null|      null|   null|\n",
      "|             null|      null|   null|\n",
      "|Surbhi Khandelwal|         5|    3.0|\n",
      "|             null|      null|   null|\n",
      "|             null|      null|   null|\n",
      "|Surbhi Khandelwal|         7|    5.0|\n",
      "|Surbhi Khandelwal|         4|    2.0|\n",
      "|Surbhi Khandelwal|         4|    2.0|\n",
      "|Surbhi Khandelwal|         3|    1.0|\n",
      "|Surbhi Khandelwal|         4|    2.0|\n",
      "|Surbhi Khandelwal|         4|    2.0|\n",
      "|Surbhi Khandelwal|       3.5|    1.5|\n",
      "|Surbhi Khandelwal|         2|    0.0|\n",
      "|Surbhi Khandelwal|       5.5|    3.5|\n",
      "|Surbhi Khandelwal|         6|    4.0|\n",
      "|Surbhi Khandelwal|         8|    6.0|\n",
      "|Surbhi Khandelwal|         1|   -1.0|\n",
      "|Surbhi Khandelwal|         3|    1.0|\n",
      "|     Anjali Dubey|       0.5|   -1.5|\n",
      "|     Anjali Dubey|       0.5|   -1.5|\n",
      "+-----------------+----------+-------+\n",
      "only showing top 20 rows\n",
      "\n"
     ]
    }
   ],
   "source": [
    "df.show()"
   ]
  },
  {
   "cell_type": "code",
   "execution_count": 47,
   "id": "7d132569",
   "metadata": {},
   "outputs": [
    {
     "name": "stdout",
     "output_type": "stream",
     "text": [
      "+-----------------+----------+-------+\n",
      "|      Responsible|Real Hours|Hours-2|\n",
      "+-----------------+----------+-------+\n",
      "|             null|      null|   null|\n",
      "|             null|      null|   null|\n",
      "|Surbhi Khandelwal|         5|    3.0|\n",
      "|             null|      null|   null|\n",
      "|             null|      null|   null|\n",
      "|Surbhi Khandelwal|         7|    5.0|\n",
      "|Surbhi Khandelwal|         4|    2.0|\n",
      "|Surbhi Khandelwal|         4|    2.0|\n",
      "|Surbhi Khandelwal|         3|    1.0|\n",
      "|Surbhi Khandelwal|         4|    2.0|\n",
      "|Surbhi Khandelwal|         4|    2.0|\n",
      "|Surbhi Khandelwal|       3.5|    1.5|\n",
      "|Surbhi Khandelwal|         2|    0.0|\n",
      "|Surbhi Khandelwal|       5.5|    3.5|\n",
      "|Surbhi Khandelwal|         6|    4.0|\n",
      "|Surbhi Khandelwal|         8|    6.0|\n",
      "|Surbhi Khandelwal|         1|   -1.0|\n",
      "|Surbhi Khandelwal|         3|    1.0|\n",
      "|     Anjali Dubey|       0.5|   -1.5|\n",
      "|     Anjali Dubey|       0.5|   -1.5|\n",
      "+-----------------+----------+-------+\n",
      "only showing top 20 rows\n",
      "\n"
     ]
    }
   ],
   "source": [
    "df.show()"
   ]
  },
  {
   "cell_type": "code",
   "execution_count": 48,
   "id": "898bf816",
   "metadata": {},
   "outputs": [
    {
     "name": "stdout",
     "output_type": "stream",
     "text": [
      "+-----------------+----------+-------+\n",
      "|      Responsible|Real Hours|Hours-2|\n",
      "+-----------------+----------+-------+\n",
      "|             null|      null|   null|\n",
      "|             null|      null|   null|\n",
      "|Surbhi Khandelwal|         5|    3.0|\n",
      "|             null|      null|   null|\n",
      "|             null|      null|   null|\n",
      "|Surbhi Khandelwal|         7|    5.0|\n",
      "|Surbhi Khandelwal|         4|    2.0|\n",
      "|Surbhi Khandelwal|         4|    2.0|\n",
      "|Surbhi Khandelwal|         3|    1.0|\n",
      "|Surbhi Khandelwal|         4|    2.0|\n",
      "|Surbhi Khandelwal|         4|    2.0|\n",
      "|Surbhi Khandelwal|       3.5|    1.5|\n",
      "|Surbhi Khandelwal|         2|    0.0|\n",
      "|Surbhi Khandelwal|       5.5|    3.5|\n",
      "|Surbhi Khandelwal|         6|    4.0|\n",
      "|Surbhi Khandelwal|         8|    6.0|\n",
      "|Surbhi Khandelwal|         1|   -1.0|\n",
      "|Surbhi Khandelwal|         3|    1.0|\n",
      "|     Anjali Dubey|       0.5|   -1.5|\n",
      "|     Anjali Dubey|       0.5|   -1.5|\n",
      "+-----------------+----------+-------+\n",
      "only showing top 20 rows\n",
      "\n"
     ]
    }
   ],
   "source": [
    "df.show()"
   ]
  },
  {
   "cell_type": "code",
   "execution_count": 49,
   "id": "adfa177d",
   "metadata": {},
   "outputs": [
    {
     "data": {
      "text/plain": [
       "217"
      ]
     },
     "execution_count": 49,
     "metadata": {},
     "output_type": "execute_result"
    }
   ],
   "source": [
    "df.na.drop().count()"
   ]
  },
  {
   "cell_type": "code",
   "execution_count": 50,
   "id": "4739e7d2",
   "metadata": {},
   "outputs": [
    {
     "name": "stdout",
     "output_type": "stream",
     "text": [
      "there are 116 null containing rows\n"
     ]
    }
   ],
   "source": [
    "print(\"there are\",df.count()- df.na.drop().count(),\"null containing rows\")"
   ]
  },
  {
   "cell_type": "code",
   "execution_count": 51,
   "id": "67f0f3e7",
   "metadata": {},
   "outputs": [],
   "source": [
    "spark.stop()"
   ]
  },
  {
   "cell_type": "code",
   "execution_count": 52,
   "id": "e28ecf75",
   "metadata": {},
   "outputs": [
    {
     "ename": "AttributeError",
     "evalue": "'NoneType' object has no attribute 'sc'",
     "output_type": "error",
     "traceback": [
      "\u001b[1;31m---------------------------------------------------------------------------\u001b[0m",
      "\u001b[1;31mAttributeError\u001b[0m                            Traceback (most recent call last)",
      "File \u001b[1;32m~\\anaconda3\\Lib\\site-packages\\IPython\\core\\formatters.py:344\u001b[0m, in \u001b[0;36mBaseFormatter.__call__\u001b[1;34m(self, obj)\u001b[0m\n\u001b[0;32m    342\u001b[0m     method \u001b[38;5;241m=\u001b[39m get_real_method(obj, \u001b[38;5;28mself\u001b[39m\u001b[38;5;241m.\u001b[39mprint_method)\n\u001b[0;32m    343\u001b[0m     \u001b[38;5;28;01mif\u001b[39;00m method \u001b[38;5;129;01mis\u001b[39;00m \u001b[38;5;129;01mnot\u001b[39;00m \u001b[38;5;28;01mNone\u001b[39;00m:\n\u001b[1;32m--> 344\u001b[0m         \u001b[38;5;28;01mreturn\u001b[39;00m method()\n\u001b[0;32m    345\u001b[0m     \u001b[38;5;28;01mreturn\u001b[39;00m \u001b[38;5;28;01mNone\u001b[39;00m\n\u001b[0;32m    346\u001b[0m \u001b[38;5;28;01melse\u001b[39;00m:\n",
      "File \u001b[1;32m~\\anaconda3\\Lib\\site-packages\\pyspark\\sql\\session.py:554\u001b[0m, in \u001b[0;36mSparkSession._repr_html_\u001b[1;34m(self)\u001b[0m\n\u001b[0;32m    546\u001b[0m \u001b[38;5;28;01mdef\u001b[39;00m \u001b[38;5;21m_repr_html_\u001b[39m(\u001b[38;5;28mself\u001b[39m) \u001b[38;5;241m-\u001b[39m\u001b[38;5;241m>\u001b[39m \u001b[38;5;28mstr\u001b[39m:\n\u001b[0;32m    547\u001b[0m     \u001b[38;5;28;01mreturn\u001b[39;00m \u001b[38;5;124m\"\"\"\u001b[39m\n\u001b[0;32m    548\u001b[0m \u001b[38;5;124m        <div>\u001b[39m\n\u001b[0;32m    549\u001b[0m \u001b[38;5;124m            <p><b>SparkSession - \u001b[39m\u001b[38;5;132;01m{catalogImplementation}\u001b[39;00m\u001b[38;5;124m</b></p>\u001b[39m\n\u001b[0;32m    550\u001b[0m \u001b[38;5;124m            \u001b[39m\u001b[38;5;132;01m{sc_HTML}\u001b[39;00m\n\u001b[0;32m    551\u001b[0m \u001b[38;5;124m        </div>\u001b[39m\n\u001b[0;32m    552\u001b[0m \u001b[38;5;124m    \u001b[39m\u001b[38;5;124m\"\"\"\u001b[39m\u001b[38;5;241m.\u001b[39mformat(\n\u001b[0;32m    553\u001b[0m         catalogImplementation\u001b[38;5;241m=\u001b[39m\u001b[38;5;28mself\u001b[39m\u001b[38;5;241m.\u001b[39mconf\u001b[38;5;241m.\u001b[39mget(\u001b[38;5;124m\"\u001b[39m\u001b[38;5;124mspark.sql.catalogImplementation\u001b[39m\u001b[38;5;124m\"\u001b[39m),\n\u001b[1;32m--> 554\u001b[0m         sc_HTML\u001b[38;5;241m=\u001b[39m\u001b[38;5;28mself\u001b[39m\u001b[38;5;241m.\u001b[39msparkContext\u001b[38;5;241m.\u001b[39m_repr_html_(),\n\u001b[0;32m    555\u001b[0m     )\n",
      "File \u001b[1;32m~\\anaconda3\\Lib\\site-packages\\pyspark\\context.py:408\u001b[0m, in \u001b[0;36mSparkContext._repr_html_\u001b[1;34m(self)\u001b[0m\n\u001b[0;32m    392\u001b[0m \u001b[38;5;28;01mdef\u001b[39;00m \u001b[38;5;21m_repr_html_\u001b[39m(\u001b[38;5;28mself\u001b[39m) \u001b[38;5;241m-\u001b[39m\u001b[38;5;241m>\u001b[39m \u001b[38;5;28mstr\u001b[39m:\n\u001b[0;32m    393\u001b[0m     \u001b[38;5;28;01mreturn\u001b[39;00m \u001b[38;5;124m\"\"\"\u001b[39m\n\u001b[0;32m    394\u001b[0m \u001b[38;5;124m    <div>\u001b[39m\n\u001b[0;32m    395\u001b[0m \u001b[38;5;124m        <p><b>SparkContext</b></p>\u001b[39m\n\u001b[0;32m    396\u001b[0m \n\u001b[0;32m    397\u001b[0m \u001b[38;5;124m        <p><a href=\u001b[39m\u001b[38;5;124m\"\u001b[39m\u001b[38;5;132;01m{sc.uiWebUrl}\u001b[39;00m\u001b[38;5;124m\"\u001b[39m\u001b[38;5;124m>Spark UI</a></p>\u001b[39m\n\u001b[0;32m    398\u001b[0m \n\u001b[0;32m    399\u001b[0m \u001b[38;5;124m        <dl>\u001b[39m\n\u001b[0;32m    400\u001b[0m \u001b[38;5;124m          <dt>Version</dt>\u001b[39m\n\u001b[0;32m    401\u001b[0m \u001b[38;5;124m            <dd><code>v\u001b[39m\u001b[38;5;132;01m{sc.version}\u001b[39;00m\u001b[38;5;124m</code></dd>\u001b[39m\n\u001b[0;32m    402\u001b[0m \u001b[38;5;124m          <dt>Master</dt>\u001b[39m\n\u001b[0;32m    403\u001b[0m \u001b[38;5;124m            <dd><code>\u001b[39m\u001b[38;5;132;01m{sc.master}\u001b[39;00m\u001b[38;5;124m</code></dd>\u001b[39m\n\u001b[0;32m    404\u001b[0m \u001b[38;5;124m          <dt>AppName</dt>\u001b[39m\n\u001b[0;32m    405\u001b[0m \u001b[38;5;124m            <dd><code>\u001b[39m\u001b[38;5;132;01m{sc.appName}\u001b[39;00m\u001b[38;5;124m</code></dd>\u001b[39m\n\u001b[0;32m    406\u001b[0m \u001b[38;5;124m        </dl>\u001b[39m\n\u001b[0;32m    407\u001b[0m \u001b[38;5;124m    </div>\u001b[39m\n\u001b[1;32m--> 408\u001b[0m \u001b[38;5;124m    \u001b[39m\u001b[38;5;124m\"\"\"\u001b[39m\u001b[38;5;241m.\u001b[39mformat(\n\u001b[0;32m    409\u001b[0m         sc\u001b[38;5;241m=\u001b[39m\u001b[38;5;28mself\u001b[39m\n\u001b[0;32m    410\u001b[0m     )\n",
      "File \u001b[1;32m~\\anaconda3\\Lib\\site-packages\\pyspark\\context.py:600\u001b[0m, in \u001b[0;36mSparkContext.uiWebUrl\u001b[1;34m(self)\u001b[0m\n\u001b[0;32m    584\u001b[0m \u001b[38;5;129m@property\u001b[39m\n\u001b[0;32m    585\u001b[0m \u001b[38;5;28;01mdef\u001b[39;00m \u001b[38;5;21muiWebUrl\u001b[39m(\u001b[38;5;28mself\u001b[39m) \u001b[38;5;241m-\u001b[39m\u001b[38;5;241m>\u001b[39m Optional[\u001b[38;5;28mstr\u001b[39m]:\n\u001b[0;32m    586\u001b[0m \u001b[38;5;250m    \u001b[39m\u001b[38;5;124;03m\"\"\"Return the URL of the SparkUI instance started by this :class:`SparkContext`\u001b[39;00m\n\u001b[0;32m    587\u001b[0m \n\u001b[0;32m    588\u001b[0m \u001b[38;5;124;03m    .. versionadded:: 2.1.0\u001b[39;00m\n\u001b[1;32m   (...)\u001b[0m\n\u001b[0;32m    598\u001b[0m \u001b[38;5;124;03m    'http://...'\u001b[39;00m\n\u001b[0;32m    599\u001b[0m \u001b[38;5;124;03m    \"\"\"\u001b[39;00m\n\u001b[1;32m--> 600\u001b[0m     jurl \u001b[38;5;241m=\u001b[39m \u001b[38;5;28mself\u001b[39m\u001b[38;5;241m.\u001b[39m_jsc\u001b[38;5;241m.\u001b[39msc()\u001b[38;5;241m.\u001b[39muiWebUrl()\n\u001b[0;32m    601\u001b[0m     \u001b[38;5;28;01mreturn\u001b[39;00m jurl\u001b[38;5;241m.\u001b[39mget() \u001b[38;5;28;01mif\u001b[39;00m jurl\u001b[38;5;241m.\u001b[39mnonEmpty() \u001b[38;5;28;01melse\u001b[39;00m \u001b[38;5;28;01mNone\u001b[39;00m\n",
      "\u001b[1;31mAttributeError\u001b[0m: 'NoneType' object has no attribute 'sc'"
     ]
    },
    {
     "data": {
      "text/plain": [
       "<pyspark.sql.session.SparkSession at 0x277863cb6d0>"
      ]
     },
     "execution_count": 52,
     "metadata": {},
     "output_type": "execute_result"
    }
   ],
   "source": [
    "spark"
   ]
  },
  {
   "cell_type": "code",
   "execution_count": null,
   "id": "643c3dc2",
   "metadata": {},
   "outputs": [],
   "source": []
  }
 ],
 "metadata": {
  "kernelspec": {
   "display_name": "Python 3 (ipykernel)",
   "language": "python",
   "name": "python3"
  },
  "language_info": {
   "codemirror_mode": {
    "name": "ipython",
    "version": 3
   },
   "file_extension": ".py",
   "mimetype": "text/x-python",
   "name": "python",
   "nbconvert_exporter": "python",
   "pygments_lexer": "ipython3",
   "version": "3.11.4"
  }
 },
 "nbformat": 4,
 "nbformat_minor": 5
}
