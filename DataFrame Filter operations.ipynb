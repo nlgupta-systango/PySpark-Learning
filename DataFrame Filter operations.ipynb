{
 "cells": [
  {
   "cell_type": "code",
   "execution_count": 1,
   "id": "0e8984d1",
   "metadata": {},
   "outputs": [],
   "source": [
    "import pyspark"
   ]
  },
  {
   "cell_type": "code",
   "execution_count": 2,
   "id": "c0868d82",
   "metadata": {},
   "outputs": [],
   "source": [
    "from pyspark.sql import SparkSession"
   ]
  },
  {
   "cell_type": "code",
   "execution_count": 3,
   "id": "bbe0838d",
   "metadata": {},
   "outputs": [],
   "source": [
    "spark =SparkSession.builder.appName(\"Filter\").getOrCreate()"
   ]
  },
  {
   "cell_type": "code",
   "execution_count": 4,
   "id": "a3b69d5a",
   "metadata": {},
   "outputs": [
    {
     "data": {
      "text/html": [
       "\n",
       "            <div>\n",
       "                <p><b>SparkSession - in-memory</b></p>\n",
       "                \n",
       "        <div>\n",
       "            <p><b>SparkContext</b></p>\n",
       "\n",
       "            <p><a href=\"http://WLAP-164:4040\">Spark UI</a></p>\n",
       "\n",
       "            <dl>\n",
       "              <dt>Version</dt>\n",
       "                <dd><code>v3.4.1</code></dd>\n",
       "              <dt>Master</dt>\n",
       "                <dd><code>local[*]</code></dd>\n",
       "              <dt>AppName</dt>\n",
       "                <dd><code>Filter</code></dd>\n",
       "            </dl>\n",
       "        </div>\n",
       "        \n",
       "            </div>\n",
       "        "
      ],
      "text/plain": [
       "<pyspark.sql.session.SparkSession at 0x1c32cfcff10>"
      ]
     },
     "execution_count": 4,
     "metadata": {},
     "output_type": "execute_result"
    }
   ],
   "source": [
    "spark\n"
   ]
  },
  {
   "cell_type": "code",
   "execution_count": 5,
   "id": "c8e43d1b",
   "metadata": {},
   "outputs": [],
   "source": [
    "df = spark.read.csv(\"./CSV sample/test1.csv\",header=True,inferSchema=True)"
   ]
  },
  {
   "cell_type": "code",
   "execution_count": 8,
   "id": "34216841",
   "metadata": {},
   "outputs": [
    {
     "name": "stdout",
     "output_type": "stream",
     "text": [
      "+-------+------+------------------+-----------------+------------------+\n",
      "|summary|  Name|               age|       Experience|            Salary|\n",
      "+-------+------+------------------+-----------------+------------------+\n",
      "|  count|     6|                 6|                6|                 6|\n",
      "|   mean|  null|26.333333333333332|4.666666666666667|21333.333333333332|\n",
      "| stddev|  null| 4.179314138308661|3.559026084010437| 5354.126134736337|\n",
      "|    min|Harsha|                21|                1|             15000|\n",
      "|    max| Sunny|                31|               10|             30000|\n",
      "+-------+------+------------------+-----------------+------------------+\n",
      "\n"
     ]
    }
   ],
   "source": [
    "df.describe().show()"
   ]
  },
  {
   "cell_type": "code",
   "execution_count": 9,
   "id": "72976683",
   "metadata": {},
   "outputs": [
    {
     "name": "stdout",
     "output_type": "stream",
     "text": [
      "+---------+---+----------+------+\n",
      "|     Name|age|Experience|Salary|\n",
      "+---------+---+----------+------+\n",
      "|    Krish| 31|        10| 30000|\n",
      "|Sudhanshu| 30|         8| 25000|\n",
      "|    Sunny| 29|         4| 20000|\n",
      "|     Paul| 24|         3| 20000|\n",
      "|   Harsha| 21|         1| 15000|\n",
      "|  Shubham| 23|         2| 18000|\n",
      "+---------+---+----------+------+\n",
      "\n"
     ]
    }
   ],
   "source": [
    "df.show()"
   ]
  },
  {
   "cell_type": "code",
   "execution_count": 10,
   "id": "a3979726",
   "metadata": {},
   "outputs": [],
   "source": [
    "## Filter operations "
   ]
  },
  {
   "cell_type": "code",
   "execution_count": 14,
   "id": "379db739",
   "metadata": {},
   "outputs": [
    {
     "name": "stdout",
     "output_type": "stream",
     "text": [
      "+---------+---+----------+------+\n",
      "|     Name|age|Experience|Salary|\n",
      "+---------+---+----------+------+\n",
      "|Sudhanshu| 30|         8| 25000|\n",
      "|    Sunny| 29|         4| 20000|\n",
      "|     Paul| 24|         3| 20000|\n",
      "+---------+---+----------+------+\n",
      "\n"
     ]
    }
   ],
   "source": [
    "df.filter(\"Salary>=20000 and Salary <30000\").show()"
   ]
  },
  {
   "cell_type": "code",
   "execution_count": 15,
   "id": "ec991875",
   "metadata": {},
   "outputs": [],
   "source": [
    "## read hours dataset\n",
    "df_hours = spark.read.csv(\"./CSV sample/task.csv\",header=True,inferSchema=True)"
   ]
  },
  {
   "cell_type": "code",
   "execution_count": 16,
   "id": "0ea0e779",
   "metadata": {},
   "outputs": [
    {
     "name": "stdout",
     "output_type": "stream",
     "text": [
      "+--------------------+--------------------+-----------------+-----+-------+\n",
      "|             Project|               Tasks|      Responsible|Hours|  Month|\n",
      "+--------------------+--------------------+-----------------+-----+-------+\n",
      "|                null|                null|             null| null|   null|\n",
      "|             January|                null|             null| null|   null|\n",
      "|            Power BI| BRM update for 2023|Surbhi Khandelwal|    5|January|\n",
      "|            Power BI|BRM updating quer...|             null| null|   null|\n",
      "|,Surbhi Khandelwa...|                null|             null| null|   null|\n",
      "|            Power BI|BRM issue with co...|Surbhi Khandelwal|    7|January|\n",
      "|            Power BI|BRM issue with Ra...|Surbhi Khandelwal|    4|January|\n",
      "|            Power BI|Research on how t...|Surbhi Khandelwal|    4|January|\n",
      "|            Power BI| BRM add departments|Surbhi Khandelwal|    3|January|\n",
      "|            Power BI|Offer settlement ...|Surbhi Khandelwal|    4|January|\n",
      "|            Power BI|Research on sendi...|Surbhi Khandelwal|    4|January|\n",
      "|            Power BI|RLS for productiv...|Surbhi Khandelwal|  3.5|January|\n",
      "|            Power BI|Foreclosure repor...|Surbhi Khandelwal|    2|January|\n",
      "|            Power BI|BRM report - P&L ...|Surbhi Khandelwal|  5.5|January|\n",
      "|            Power BI|Research on how t...|Surbhi Khandelwal|    6|January|\n",
      "|            Power BI|    BRM report issue|Surbhi Khandelwal|    8|January|\n",
      "|            Power BI|Microsoft Azure B...|Surbhi Khandelwal|    1|January|\n",
      "|            Power BI|Research on matte...|Surbhi Khandelwal|    3|January|\n",
      "|          Power Apps| Removed Rachel G...|     Anjali Dubey|  0.5|January|\n",
      "|          Power Apps|epwander@kelleykr...|     Anjali Dubey|  0.5|January|\n",
      "+--------------------+--------------------+-----------------+-----+-------+\n",
      "only showing top 20 rows\n",
      "\n"
     ]
    }
   ],
   "source": [
    "df_hours.show()\n"
   ]
  },
  {
   "cell_type": "code",
   "execution_count": 18,
   "id": "9ca63e79",
   "metadata": {},
   "outputs": [],
   "source": [
    "df_hours = df_hours.na.drop(subset=['Hours'])"
   ]
  },
  {
   "cell_type": "code",
   "execution_count": 19,
   "id": "89ce4ce6",
   "metadata": {},
   "outputs": [
    {
     "name": "stdout",
     "output_type": "stream",
     "text": [
      "+----------+--------------------+-----------------+-----+-------+\n",
      "|   Project|               Tasks|      Responsible|Hours|  Month|\n",
      "+----------+--------------------+-----------------+-----+-------+\n",
      "|  Power BI| BRM update for 2023|Surbhi Khandelwal|    5|January|\n",
      "|  Power BI|BRM issue with co...|Surbhi Khandelwal|    7|January|\n",
      "|  Power BI|BRM issue with Ra...|Surbhi Khandelwal|    4|January|\n",
      "|  Power BI|Research on how t...|Surbhi Khandelwal|    4|January|\n",
      "|  Power BI| BRM add departments|Surbhi Khandelwal|    3|January|\n",
      "|  Power BI|Offer settlement ...|Surbhi Khandelwal|    4|January|\n",
      "|  Power BI|Research on sendi...|Surbhi Khandelwal|    4|January|\n",
      "|  Power BI|RLS for productiv...|Surbhi Khandelwal|  3.5|January|\n",
      "|  Power BI|Foreclosure repor...|Surbhi Khandelwal|    2|January|\n",
      "|  Power BI|BRM report - P&L ...|Surbhi Khandelwal|  5.5|January|\n",
      "|  Power BI|Research on how t...|Surbhi Khandelwal|    6|January|\n",
      "|  Power BI|    BRM report issue|Surbhi Khandelwal|    8|January|\n",
      "|  Power BI|Microsoft Azure B...|Surbhi Khandelwal|    1|January|\n",
      "|  Power BI|Research on matte...|Surbhi Khandelwal|    3|January|\n",
      "|Power Apps| Removed Rachel G...|     Anjali Dubey|  0.5|January|\n",
      "|Power Apps|epwander@kelleykr...|     Anjali Dubey|  0.5|January|\n",
      "|Power Apps| Conflict check r...|     Anjali Dubey|  1.5|January|\n",
      "|Power Apps| Opp#722662593 co...|     Anjali Dubey|    2|January|\n",
      "|Power Apps| New Hire Initial...|     Anjali Dubey|   16|January|\n",
      "|Power Apps|add BUL Distrib l...|     Anjali Dubey|    5|January|\n",
      "+----------+--------------------+-----------------+-----+-------+\n",
      "only showing top 20 rows\n",
      "\n"
     ]
    }
   ],
   "source": [
    "df_hours.show()"
   ]
  },
  {
   "cell_type": "code",
   "execution_count": 20,
   "id": "99775ec8",
   "metadata": {},
   "outputs": [
    {
     "name": "stdout",
     "output_type": "stream",
     "text": [
      "+--------------------+--------------------+-----------------+-----+--------+\n",
      "|             Project|               Tasks|      Responsible|Hours|   Month|\n",
      "+--------------------+--------------------+-----------------+-----+--------+\n",
      "|          Power Apps| New Hire Initial...|     Anjali Dubey|   16| January|\n",
      "|(built logic for ...| test and impleme...|     Anjali Dubey|   13| January|\n",
      "|          Power Apps| Mediation Templa...|     Anjali Dubey|   10| January|\n",
      "| **Need ability t...| tested and added...|     Anjali Dubey|   16|February|\n",
      "|                 CRM|Add: David Henry,...|     Anjali Dubey|   10|February|\n",
      "|            Power BI|Make the Bonus to...|Surbhi Khandelwal|   10|February|\n",
      "|            Power BI|FPP Trail: the fe...|    Neelesh Gupta|   12|   March|\n",
      "|            Power BI|building Ideal ta...|    Neelesh Gupta|   10|   March|\n",
      "|            Power BI|creating expanded...|    Neelesh Gupta|   30|   March|\n",
      "|            Power BI|Monitor the repor...|    Neelesh Gupta|   11|     May|\n",
      "|            Power BI|Built the Intake ...|    Neelesh Gupta|   15|    June|\n",
      "|            Power BI|Explore the Kelle...|    Neelesh Gupta|   11|    June|\n",
      "|            Power BI|Implemented the p...|    Neelesh Gupta|   10|    June|\n",
      "|            Power BI|\"Re-Implement the...|    Neelesh Gupta|   10|    June|\n",
      "|            Power BI|Implemented the p...|    Neelesh Gupta|   10|    June|\n",
      "|            Power BI|Monitor the repor...|    Neelesh Gupta|   12|    June|\n",
      "|            Power BI|Implemented the p...|    Neelesh Gupta|   13|    June|\n",
      "|            Power BI|Monitor the repor...|    Neelesh Gupta|   11|    July|\n",
      "|            Power BI|Implemented the E...|    Neelesh Gupta|   14|  August|\n",
      "|            Power BI|Monitor the repor...|    Neelesh Gupta|   12|  August|\n",
      "+--------------------+--------------------+-----------------+-----+--------+\n",
      "only showing top 20 rows\n",
      "\n"
     ]
    }
   ],
   "source": [
    "##Filter task hours which took more than 10 hours\n",
    "\n",
    "df_hours.filter(\"Hours>=10\").show()"
   ]
  },
  {
   "cell_type": "code",
   "execution_count": 28,
   "id": "e6d713ff",
   "metadata": {},
   "outputs": [
    {
     "name": "stdout",
     "output_type": "stream",
     "text": [
      "+--------+--------------------+-----------------+-----+---------+\n",
      "| Project|               Tasks|      Responsible|Hours|    Month|\n",
      "+--------+--------------------+-----------------+-----+---------+\n",
      "|Power BI|Make the Bonus to...|Surbhi Khandelwal|   10| February|\n",
      "|Power BI|FPP Trail: the fe...|    Neelesh Gupta|   12|    March|\n",
      "|Power BI|building Ideal ta...|    Neelesh Gupta|   10|    March|\n",
      "|Power BI|creating expanded...|    Neelesh Gupta|   30|    March|\n",
      "|Power BI|Monitor the repor...|    Neelesh Gupta|   11|      May|\n",
      "|Power BI|Built the Intake ...|    Neelesh Gupta|   15|     June|\n",
      "|Power BI|Explore the Kelle...|    Neelesh Gupta|   11|     June|\n",
      "|Power BI|Implemented the p...|    Neelesh Gupta|   10|     June|\n",
      "|Power BI|\"Re-Implement the...|    Neelesh Gupta|   10|     June|\n",
      "|Power BI|Implemented the p...|    Neelesh Gupta|   10|     June|\n",
      "|Power BI|Monitor the repor...|    Neelesh Gupta|   12|     June|\n",
      "|Power BI|Implemented the p...|    Neelesh Gupta|   13|     June|\n",
      "|Power BI|Monitor the repor...|    Neelesh Gupta|   11|     July|\n",
      "|Power BI|Implemented the E...|    Neelesh Gupta|   14|   August|\n",
      "|Power BI|Monitor the repor...|    Neelesh Gupta|   12|   August|\n",
      "|Power BI|Monitor the repor...|    Neelesh Gupta|   14|September|\n",
      "+--------+--------------------+-----------------+-----+---------+\n",
      "\n"
     ]
    }
   ],
   "source": [
    "## for neelesh \n",
    "df_hours.filter(\"Hours>=10 and Responsible !='Anjali Dubey' \").show()"
   ]
  },
  {
   "cell_type": "code",
   "execution_count": 29,
   "id": "673edd14",
   "metadata": {},
   "outputs": [
    {
     "name": "stdout",
     "output_type": "stream",
     "text": [
      "+-------------+--------------------+\n",
      "|  Responsible|               Tasks|\n",
      "+-------------+--------------------+\n",
      "|Neelesh Gupta|FPP Trail: the fe...|\n",
      "|Neelesh Gupta|building Ideal ta...|\n",
      "|Neelesh Gupta|creating expanded...|\n",
      "|Neelesh Gupta|Monitor the repor...|\n",
      "|Neelesh Gupta|Built the Intake ...|\n",
      "|Neelesh Gupta|Explore the Kelle...|\n",
      "|Neelesh Gupta|Implemented the p...|\n",
      "|Neelesh Gupta|\"Re-Implement the...|\n",
      "|Neelesh Gupta|Implemented the p...|\n",
      "|Neelesh Gupta|Monitor the repor...|\n",
      "|Neelesh Gupta|Implemented the p...|\n",
      "|Neelesh Gupta|Monitor the repor...|\n",
      "|Neelesh Gupta|Implemented the E...|\n",
      "|Neelesh Gupta|Monitor the repor...|\n",
      "|Neelesh Gupta|Monitor the repor...|\n",
      "+-------------+--------------------+\n",
      "\n"
     ]
    }
   ],
   "source": [
    "## with select specific columns \n",
    "df_hours.filter(\"Hours>=10 and Responsible=='Neelesh Gupta'\").select(['Responsible','Tasks']).show()"
   ]
  },
  {
   "cell_type": "code",
   "execution_count": 33,
   "id": "8e31c840",
   "metadata": {},
   "outputs": [
    {
     "name": "stdout",
     "output_type": "stream",
     "text": [
      "+--------------------+--------------------+-------------+-----+---------+\n",
      "|             Project|               Tasks|  Responsible|Hours|    Month|\n",
      "+--------------------+--------------------+-------------+-----+---------+\n",
      "|(built logic for ...| test and impleme...| Anjali Dubey|   13|  January|\n",
      "|            Power BI|FPP Trail: the fe...|Neelesh Gupta|   12|    March|\n",
      "|            Power BI|Monitor the repor...|Neelesh Gupta|   11|      May|\n",
      "|            Power BI|Explore the Kelle...|Neelesh Gupta|   11|     June|\n",
      "|            Power BI|Monitor the repor...|Neelesh Gupta|   12|     June|\n",
      "|            Power BI|Implemented the p...|Neelesh Gupta|   13|     June|\n",
      "|            Power BI|Monitor the repor...|Neelesh Gupta|   11|     July|\n",
      "|            Power BI|Implemented the E...|Neelesh Gupta|   14|   August|\n",
      "|            Power BI|Monitor the repor...|Neelesh Gupta|   12|   August|\n",
      "|            Power BI|Monitor the repor...|Neelesh Gupta|   14|September|\n",
      "+--------------------+--------------------+-------------+-----+---------+\n",
      "\n"
     ]
    }
   ],
   "source": [
    "df_hours.filter((df_hours['Hours']>10) & (df_hours['Hours']<15)).show()"
   ]
  },
  {
   "cell_type": "code",
   "execution_count": 32,
   "id": "9ffdd11f",
   "metadata": {},
   "outputs": [
    {
     "data": {
      "text/plain": [
       "DataFrame[Project: string, Tasks: string, Responsible: string, Hours: string, Month: string]"
      ]
     },
     "execution_count": 32,
     "metadata": {},
     "output_type": "execute_result"
    }
   ],
   "source": [
    "df_hours"
   ]
  },
  {
   "cell_type": "code",
   "execution_count": 42,
   "id": "d2f3291d",
   "metadata": {},
   "outputs": [
    {
     "name": "stdout",
     "output_type": "stream",
     "text": [
      "+--------------------+-----+\n",
      "|             Project|Hours|\n",
      "+--------------------+-----+\n",
      "|          Power Apps|   16|\n",
      "|(built logic for ...|   13|\n",
      "| **Need ability t...|   16|\n",
      "|            Power BI|   12|\n",
      "|            Power BI|   30|\n",
      "|            Power BI|   11|\n",
      "|            Power BI|   15|\n",
      "|            Power BI|   11|\n",
      "|            Power BI|   12|\n",
      "|            Power BI|   13|\n",
      "|            Power BI|   11|\n",
      "|            Power BI|   14|\n",
      "|            Power BI|   12|\n",
      "|            Power BI|   14|\n",
      "+--------------------+-----+\n",
      "\n"
     ]
    }
   ],
   "source": [
    "df_hours.filter((df_hours['Hours']>10)).select(['Project','Hours']).show()"
   ]
  },
  {
   "cell_type": "code",
   "execution_count": 45,
   "id": "7b61b110",
   "metadata": {},
   "outputs": [
    {
     "name": "stdout",
     "output_type": "stream",
     "text": [
      "+--------------------+-----+\n",
      "|             Project|Hours|\n",
      "+--------------------+-----+\n",
      "|          Power Apps|   16|\n",
      "|(built logic for ...|   13|\n",
      "|          Power Apps|   10|\n",
      "| **Need ability t...|   16|\n",
      "|                 CRM|   10|\n",
      "|            Power BI|   10|\n",
      "|            Power BI|   12|\n",
      "|            Power BI|   10|\n",
      "|            Power BI|   30|\n",
      "|            Power BI|   11|\n",
      "|            Power BI|   15|\n",
      "|            Power BI|   11|\n",
      "|            Power BI|   10|\n",
      "|            Power BI|   10|\n",
      "|            Power BI|   10|\n",
      "|            Power BI|   12|\n",
      "|            Power BI|   13|\n",
      "|            Power BI|   11|\n",
      "|            Power BI|   14|\n",
      "|            Power BI|   12|\n",
      "+--------------------+-----+\n",
      "only showing top 20 rows\n",
      "\n"
     ]
    }
   ],
   "source": [
    "## inverse operations \n",
    "df_hours.filter(~(df_hours['Hours']<10)).select(['Project','Hours']).show()"
   ]
  },
  {
   "cell_type": "code",
   "execution_count": null,
   "id": "e90f02ee",
   "metadata": {},
   "outputs": [],
   "source": []
  }
 ],
 "metadata": {
  "kernelspec": {
   "display_name": "Python 3 (ipykernel)",
   "language": "python",
   "name": "python3"
  },
  "language_info": {
   "codemirror_mode": {
    "name": "ipython",
    "version": 3
   },
   "file_extension": ".py",
   "mimetype": "text/x-python",
   "name": "python",
   "nbconvert_exporter": "python",
   "pygments_lexer": "ipython3",
   "version": "3.11.4"
  }
 },
 "nbformat": 4,
 "nbformat_minor": 5
}
