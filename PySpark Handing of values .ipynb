{
 "cells": [
  {
   "cell_type": "code",
   "execution_count": 1,
   "id": "928bd1ed",
   "metadata": {},
   "outputs": [],
   "source": [
    "import pyspark\n",
    "from pyspark.sql import SparkSession"
   ]
  },
  {
   "cell_type": "code",
   "execution_count": 2,
   "id": "0f0ffb0c",
   "metadata": {},
   "outputs": [],
   "source": [
    "spark = SparkSession.builder.appName('PySpark_DF_Handling').getOrCreate()"
   ]
  },
  {
   "cell_type": "code",
   "execution_count": 3,
   "id": "0838cba5",
   "metadata": {},
   "outputs": [
    {
     "data": {
      "text/html": [
       "\n",
       "            <div>\n",
       "                <p><b>SparkSession - in-memory</b></p>\n",
       "                \n",
       "        <div>\n",
       "            <p><b>SparkContext</b></p>\n",
       "\n",
       "            <p><a href=\"http://DESKTOP-PFU6LNS:4042\">Spark UI</a></p>\n",
       "\n",
       "            <dl>\n",
       "              <dt>Version</dt>\n",
       "                <dd><code>v3.4.1</code></dd>\n",
       "              <dt>Master</dt>\n",
       "                <dd><code>local[*]</code></dd>\n",
       "              <dt>AppName</dt>\n",
       "                <dd><code>PySpark_DF_Handling</code></dd>\n",
       "            </dl>\n",
       "        </div>\n",
       "        \n",
       "            </div>\n",
       "        "
      ],
      "text/plain": [
       "<pyspark.sql.session.SparkSession at 0x130c34bf190>"
      ]
     },
     "execution_count": 3,
     "metadata": {},
     "output_type": "execute_result"
    }
   ],
   "source": [
    "spark"
   ]
  },
  {
   "cell_type": "code",
   "execution_count": 5,
   "id": "184ea59e",
   "metadata": {},
   "outputs": [],
   "source": [
    "df = spark.read.csv('./CSV sample/task.csv',header=True,inferSchema=True)"
   ]
  },
  {
   "cell_type": "code",
   "execution_count": 6,
   "id": "766857eb",
   "metadata": {},
   "outputs": [
    {
     "name": "stdout",
     "output_type": "stream",
     "text": [
      "root\n",
      " |-- Project: string (nullable = true)\n",
      " |-- Tasks: string (nullable = true)\n",
      " |-- Responsible: string (nullable = true)\n",
      " |-- Hours: string (nullable = true)\n",
      " |-- Month: string (nullable = true)\n",
      "\n"
     ]
    }
   ],
   "source": [
    "df.printSchema()"
   ]
  },
  {
   "cell_type": "code",
   "execution_count": 7,
   "id": "f205bb60",
   "metadata": {},
   "outputs": [
    {
     "name": "stdout",
     "output_type": "stream",
     "text": [
      "+--------------------+--------------------+-----------------+-----+-------+\n",
      "|             Project|               Tasks|      Responsible|Hours|  Month|\n",
      "+--------------------+--------------------+-----------------+-----+-------+\n",
      "|                null|                null|             null| null|   null|\n",
      "|             January|                null|             null| null|   null|\n",
      "|            Power BI| BRM update for 2023|Surbhi Khandelwal|    5|January|\n",
      "|            Power BI|BRM updating quer...|             null| null|   null|\n",
      "|,Surbhi Khandelwa...|                null|             null| null|   null|\n",
      "|            Power BI|BRM issue with co...|Surbhi Khandelwal|    7|January|\n",
      "|            Power BI|BRM issue with Ra...|Surbhi Khandelwal|    4|January|\n",
      "|            Power BI|Research on how t...|Surbhi Khandelwal|    4|January|\n",
      "|            Power BI| BRM add departments|Surbhi Khandelwal|    3|January|\n",
      "|            Power BI|Offer settlement ...|Surbhi Khandelwal|    4|January|\n",
      "|            Power BI|Research on sendi...|Surbhi Khandelwal|    4|January|\n",
      "|            Power BI|RLS for productiv...|Surbhi Khandelwal|  3.5|January|\n",
      "|            Power BI|Foreclosure repor...|Surbhi Khandelwal|    2|January|\n",
      "|            Power BI|BRM report - P&L ...|Surbhi Khandelwal|  5.5|January|\n",
      "|            Power BI|Research on how t...|Surbhi Khandelwal|    6|January|\n",
      "|            Power BI|    BRM report issue|Surbhi Khandelwal|    8|January|\n",
      "|            Power BI|Microsoft Azure B...|Surbhi Khandelwal|    1|January|\n",
      "|            Power BI|Research on matte...|Surbhi Khandelwal|    3|January|\n",
      "|          Power Apps| Removed Rachel G...|     Anjali Dubey|  0.5|January|\n",
      "|          Power Apps|epwander@kelleykr...|     Anjali Dubey|  0.5|January|\n",
      "+--------------------+--------------------+-----------------+-----+-------+\n",
      "only showing top 20 rows\n",
      "\n"
     ]
    }
   ],
   "source": [
    "df.show()"
   ]
  },
  {
   "cell_type": "code",
   "execution_count": null,
   "id": "ab51a196",
   "metadata": {},
   "outputs": [],
   "source": []
  }
 ],
 "metadata": {
  "kernelspec": {
   "display_name": "Python 3 (ipykernel)",
   "language": "python",
   "name": "python3"
  },
  "language_info": {
   "codemirror_mode": {
    "name": "ipython",
    "version": 3
   },
   "file_extension": ".py",
   "mimetype": "text/x-python",
   "name": "python",
   "nbconvert_exporter": "python",
   "pygments_lexer": "ipython3",
   "version": "3.11.4"
  }
 },
 "nbformat": 4,
 "nbformat_minor": 5
}
