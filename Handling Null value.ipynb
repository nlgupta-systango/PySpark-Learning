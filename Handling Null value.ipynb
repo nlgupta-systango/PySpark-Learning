{
 "cells": [
  {
   "cell_type": "code",
   "execution_count": 1,
   "id": "3dc81fb5",
   "metadata": {},
   "outputs": [],
   "source": [
    "import pyspark\n"
   ]
  },
  {
   "cell_type": "code",
   "execution_count": 2,
   "id": "8c778bd6",
   "metadata": {},
   "outputs": [],
   "source": [
    "from pyspark.sql import SparkSession\n"
   ]
  },
  {
   "cell_type": "code",
   "execution_count": 3,
   "id": "d66680a2",
   "metadata": {},
   "outputs": [],
   "source": [
    "spark = SparkSession.builder.appName(\"Practise\").getOrCreate()"
   ]
  },
  {
   "cell_type": "code",
   "execution_count": 4,
   "id": "0514722c",
   "metadata": {},
   "outputs": [],
   "source": [
    "df = spark.read.csv(\"./CSV sample/task.csv\",header=True,inferSchema=True)"
   ]
  },
  {
   "cell_type": "code",
   "execution_count": 5,
   "id": "d8cb402e",
   "metadata": {},
   "outputs": [
    {
     "name": "stdout",
     "output_type": "stream",
     "text": [
      "+--------------------+--------------------+-----------------+-----+-------+\n",
      "|             Project|               Tasks|      Responsible|Hours|  Month|\n",
      "+--------------------+--------------------+-----------------+-----+-------+\n",
      "|                null|                null|             null| null|   null|\n",
      "|             January|                null|             null| null|   null|\n",
      "|            Power BI| BRM update for 2023|Surbhi Khandelwal|    5|January|\n",
      "|            Power BI|BRM updating quer...|             null| null|   null|\n",
      "|,Surbhi Khandelwa...|                null|             null| null|   null|\n",
      "|            Power BI|BRM issue with co...|Surbhi Khandelwal|    7|January|\n",
      "|            Power BI|BRM issue with Ra...|Surbhi Khandelwal|    4|January|\n",
      "|            Power BI|Research on how t...|Surbhi Khandelwal|    4|January|\n",
      "|            Power BI| BRM add departments|Surbhi Khandelwal|    3|January|\n",
      "|            Power BI|Offer settlement ...|Surbhi Khandelwal|    4|January|\n",
      "|            Power BI|Research on sendi...|Surbhi Khandelwal|    4|January|\n",
      "|            Power BI|RLS for productiv...|Surbhi Khandelwal|  3.5|January|\n",
      "|            Power BI|Foreclosure repor...|Surbhi Khandelwal|    2|January|\n",
      "|            Power BI|BRM report - P&L ...|Surbhi Khandelwal|  5.5|January|\n",
      "|            Power BI|Research on how t...|Surbhi Khandelwal|    6|January|\n",
      "|            Power BI|    BRM report issue|Surbhi Khandelwal|    8|January|\n",
      "|            Power BI|Microsoft Azure B...|Surbhi Khandelwal|    1|January|\n",
      "|            Power BI|Research on matte...|Surbhi Khandelwal|    3|January|\n",
      "|          Power Apps| Removed Rachel G...|     Anjali Dubey|  0.5|January|\n",
      "|          Power Apps|epwander@kelleykr...|     Anjali Dubey|  0.5|January|\n",
      "+--------------------+--------------------+-----------------+-----+-------+\n",
      "only showing top 20 rows\n",
      "\n"
     ]
    }
   ],
   "source": [
    "df.show()"
   ]
  },
  {
   "cell_type": "code",
   "execution_count": 6,
   "id": "6cf7a118",
   "metadata": {},
   "outputs": [
    {
     "data": {
      "text/plain": [
       "333"
      ]
     },
     "execution_count": 6,
     "metadata": {},
     "output_type": "execute_result"
    }
   ],
   "source": [
    "df.count()"
   ]
  },
  {
   "cell_type": "code",
   "execution_count": 7,
   "id": "ec3b6f71",
   "metadata": {},
   "outputs": [],
   "source": [
    "df=df.drop(\"Month\")"
   ]
  },
  {
   "cell_type": "code",
   "execution_count": 8,
   "id": "6efe41b7",
   "metadata": {},
   "outputs": [
    {
     "data": {
      "text/plain": [
       "DataFrame[Project: string, Tasks: string, Responsible: string, Hours: string]"
      ]
     },
     "execution_count": 8,
     "metadata": {},
     "output_type": "execute_result"
    }
   ],
   "source": [
    "df\n"
   ]
  },
  {
   "cell_type": "code",
   "execution_count": 9,
   "id": "643ee21c",
   "metadata": {},
   "outputs": [
    {
     "name": "stdout",
     "output_type": "stream",
     "text": [
      "+--------------------+--------------------+-----------------+-----+\n",
      "|             Project|               Tasks|      Responsible|Hours|\n",
      "+--------------------+--------------------+-----------------+-----+\n",
      "|                null|                null|             null| null|\n",
      "|             January|                null|             null| null|\n",
      "|            Power BI| BRM update for 2023|Surbhi Khandelwal|    5|\n",
      "|            Power BI|BRM updating quer...|             null| null|\n",
      "|,Surbhi Khandelwa...|                null|             null| null|\n",
      "|            Power BI|BRM issue with co...|Surbhi Khandelwal|    7|\n",
      "|            Power BI|BRM issue with Ra...|Surbhi Khandelwal|    4|\n",
      "|            Power BI|Research on how t...|Surbhi Khandelwal|    4|\n",
      "|            Power BI| BRM add departments|Surbhi Khandelwal|    3|\n",
      "|            Power BI|Offer settlement ...|Surbhi Khandelwal|    4|\n",
      "|            Power BI|Research on sendi...|Surbhi Khandelwal|    4|\n",
      "|            Power BI|RLS for productiv...|Surbhi Khandelwal|  3.5|\n",
      "|            Power BI|Foreclosure repor...|Surbhi Khandelwal|    2|\n",
      "|            Power BI|BRM report - P&L ...|Surbhi Khandelwal|  5.5|\n",
      "|            Power BI|Research on how t...|Surbhi Khandelwal|    6|\n",
      "|            Power BI|    BRM report issue|Surbhi Khandelwal|    8|\n",
      "|            Power BI|Microsoft Azure B...|Surbhi Khandelwal|    1|\n",
      "|            Power BI|Research on matte...|Surbhi Khandelwal|    3|\n",
      "|          Power Apps| Removed Rachel G...|     Anjali Dubey|  0.5|\n",
      "|          Power Apps|epwander@kelleykr...|     Anjali Dubey|  0.5|\n",
      "+--------------------+--------------------+-----------------+-----+\n",
      "only showing top 20 rows\n",
      "\n"
     ]
    }
   ],
   "source": [
    "df.show()"
   ]
  },
  {
   "cell_type": "code",
   "execution_count": 10,
   "id": "cdd07ab5",
   "metadata": {},
   "outputs": [
    {
     "data": {
      "text/plain": [
       "333"
      ]
     },
     "execution_count": 10,
     "metadata": {},
     "output_type": "execute_result"
    }
   ],
   "source": [
    "df.count()"
   ]
  },
  {
   "cell_type": "code",
   "execution_count": 11,
   "id": "19c584f5",
   "metadata": {},
   "outputs": [],
   "source": [
    "df_all_drop = df.na.drop()"
   ]
  },
  {
   "cell_type": "code",
   "execution_count": 12,
   "id": "5ebfe686",
   "metadata": {},
   "outputs": [
    {
     "data": {
      "text/plain": [
       "240"
      ]
     },
     "execution_count": 12,
     "metadata": {},
     "output_type": "execute_result"
    }
   ],
   "source": [
    "df_all_drop.count()"
   ]
  },
  {
   "cell_type": "code",
   "execution_count": 13,
   "id": "2e32518d",
   "metadata": {},
   "outputs": [],
   "source": [
    "df_all_val = df.na.drop(how='all')"
   ]
  },
  {
   "cell_type": "code",
   "execution_count": 14,
   "id": "d1dc06e6",
   "metadata": {},
   "outputs": [
    {
     "name": "stdout",
     "output_type": "stream",
     "text": [
      "+--------------------+--------------------+-----------------+-----+\n",
      "|             Project|               Tasks|      Responsible|Hours|\n",
      "+--------------------+--------------------+-----------------+-----+\n",
      "|             January|                null|             null| null|\n",
      "|            Power BI| BRM update for 2023|Surbhi Khandelwal|    5|\n",
      "|            Power BI|BRM updating quer...|             null| null|\n",
      "|,Surbhi Khandelwa...|                null|             null| null|\n",
      "|            Power BI|BRM issue with co...|Surbhi Khandelwal|    7|\n",
      "|            Power BI|BRM issue with Ra...|Surbhi Khandelwal|    4|\n",
      "|            Power BI|Research on how t...|Surbhi Khandelwal|    4|\n",
      "|            Power BI| BRM add departments|Surbhi Khandelwal|    3|\n",
      "|            Power BI|Offer settlement ...|Surbhi Khandelwal|    4|\n",
      "|            Power BI|Research on sendi...|Surbhi Khandelwal|    4|\n",
      "|            Power BI|RLS for productiv...|Surbhi Khandelwal|  3.5|\n",
      "|            Power BI|Foreclosure repor...|Surbhi Khandelwal|    2|\n",
      "|            Power BI|BRM report - P&L ...|Surbhi Khandelwal|  5.5|\n",
      "|            Power BI|Research on how t...|Surbhi Khandelwal|    6|\n",
      "|            Power BI|    BRM report issue|Surbhi Khandelwal|    8|\n",
      "|            Power BI|Microsoft Azure B...|Surbhi Khandelwal|    1|\n",
      "|            Power BI|Research on matte...|Surbhi Khandelwal|    3|\n",
      "|          Power Apps| Removed Rachel G...|     Anjali Dubey|  0.5|\n",
      "|          Power Apps|epwander@kelleykr...|     Anjali Dubey|  0.5|\n",
      "|          Power Apps|Update logos Conf...|             null| null|\n",
      "+--------------------+--------------------+-----------------+-----+\n",
      "only showing top 20 rows\n",
      "\n"
     ]
    }
   ],
   "source": [
    "df_all_val.show()"
   ]
  },
  {
   "cell_type": "code",
   "execution_count": 15,
   "id": "4d2aedd7",
   "metadata": {},
   "outputs": [],
   "source": [
    "df_at_2 = df_all_val.na.drop(thresh=2)"
   ]
  },
  {
   "cell_type": "code",
   "execution_count": 16,
   "id": "a8cd54fa",
   "metadata": {},
   "outputs": [
    {
     "name": "stdout",
     "output_type": "stream",
     "text": [
      "+----------+--------------------+-----------------+-----+\n",
      "|   Project|               Tasks|      Responsible|Hours|\n",
      "+----------+--------------------+-----------------+-----+\n",
      "|  Power BI| BRM update for 2023|Surbhi Khandelwal|    5|\n",
      "|  Power BI|BRM updating quer...|             null| null|\n",
      "|  Power BI|BRM issue with co...|Surbhi Khandelwal|    7|\n",
      "|  Power BI|BRM issue with Ra...|Surbhi Khandelwal|    4|\n",
      "|  Power BI|Research on how t...|Surbhi Khandelwal|    4|\n",
      "|  Power BI| BRM add departments|Surbhi Khandelwal|    3|\n",
      "|  Power BI|Offer settlement ...|Surbhi Khandelwal|    4|\n",
      "|  Power BI|Research on sendi...|Surbhi Khandelwal|    4|\n",
      "|  Power BI|RLS for productiv...|Surbhi Khandelwal|  3.5|\n",
      "|  Power BI|Foreclosure repor...|Surbhi Khandelwal|    2|\n",
      "|  Power BI|BRM report - P&L ...|Surbhi Khandelwal|  5.5|\n",
      "|  Power BI|Research on how t...|Surbhi Khandelwal|    6|\n",
      "|  Power BI|    BRM report issue|Surbhi Khandelwal|    8|\n",
      "|  Power BI|Microsoft Azure B...|Surbhi Khandelwal|    1|\n",
      "|  Power BI|Research on matte...|Surbhi Khandelwal|    3|\n",
      "|Power Apps| Removed Rachel G...|     Anjali Dubey|  0.5|\n",
      "|Power Apps|epwander@kelleykr...|     Anjali Dubey|  0.5|\n",
      "|Power Apps|Update logos Conf...|             null| null|\n",
      "|Power Apps| Conflict check r...|     Anjali Dubey|  1.5|\n",
      "|Power Apps| Opp#722662593 co...|     Anjali Dubey|    2|\n",
      "+----------+--------------------+-----------------+-----+\n",
      "only showing top 20 rows\n",
      "\n"
     ]
    }
   ],
   "source": [
    "df_at_2.show()"
   ]
  },
  {
   "cell_type": "code",
   "execution_count": 17,
   "id": "b3fea0df",
   "metadata": {},
   "outputs": [],
   "source": [
    "df_hours = df_at_2.na.drop(subset=['Hours'])"
   ]
  },
  {
   "cell_type": "code",
   "execution_count": 18,
   "id": "29cfd7eb",
   "metadata": {},
   "outputs": [
    {
     "data": {
      "text/plain": [
       "240"
      ]
     },
     "execution_count": 18,
     "metadata": {},
     "output_type": "execute_result"
    }
   ],
   "source": [
    "df_hours.count()"
   ]
  },
  {
   "cell_type": "code",
   "execution_count": 19,
   "id": "0f97bc4a",
   "metadata": {},
   "outputs": [
    {
     "name": "stdout",
     "output_type": "stream",
     "text": [
      "+----------+--------------------+-----------------+-----+\n",
      "|   Project|               Tasks|      Responsible|Hours|\n",
      "+----------+--------------------+-----------------+-----+\n",
      "|  Power BI| BRM update for 2023|Surbhi Khandelwal|    5|\n",
      "|  Power BI|BRM issue with co...|Surbhi Khandelwal|    7|\n",
      "|  Power BI|BRM issue with Ra...|Surbhi Khandelwal|    4|\n",
      "|  Power BI|Research on how t...|Surbhi Khandelwal|    4|\n",
      "|  Power BI| BRM add departments|Surbhi Khandelwal|    3|\n",
      "|  Power BI|Offer settlement ...|Surbhi Khandelwal|    4|\n",
      "|  Power BI|Research on sendi...|Surbhi Khandelwal|    4|\n",
      "|  Power BI|RLS for productiv...|Surbhi Khandelwal|  3.5|\n",
      "|  Power BI|Foreclosure repor...|Surbhi Khandelwal|    2|\n",
      "|  Power BI|BRM report - P&L ...|Surbhi Khandelwal|  5.5|\n",
      "|  Power BI|Research on how t...|Surbhi Khandelwal|    6|\n",
      "|  Power BI|    BRM report issue|Surbhi Khandelwal|    8|\n",
      "|  Power BI|Microsoft Azure B...|Surbhi Khandelwal|    1|\n",
      "|  Power BI|Research on matte...|Surbhi Khandelwal|    3|\n",
      "|Power Apps| Removed Rachel G...|     Anjali Dubey|  0.5|\n",
      "|Power Apps|epwander@kelleykr...|     Anjali Dubey|  0.5|\n",
      "|Power Apps| Conflict check r...|     Anjali Dubey|  1.5|\n",
      "|Power Apps| Opp#722662593 co...|     Anjali Dubey|    2|\n",
      "|Power Apps| New Hire Initial...|     Anjali Dubey|   16|\n",
      "|Power Apps|add BUL Distrib l...|     Anjali Dubey|    5|\n",
      "+----------+--------------------+-----------------+-----+\n",
      "only showing top 20 rows\n",
      "\n"
     ]
    }
   ],
   "source": [
    "df_hours.show()"
   ]
  },
  {
   "cell_type": "code",
   "execution_count": 20,
   "id": "d01e0840",
   "metadata": {},
   "outputs": [
    {
     "name": "stdout",
     "output_type": "stream",
     "text": [
      "+-------+--------------------+--------------------+--------------------+-----------------+\n",
      "|summary|             Project|               Tasks|         Responsible|            Hours|\n",
      "+-------+--------------------+--------------------+--------------------+-----------------+\n",
      "|  count|                 240|                 240|                 240|              240|\n",
      "|   mean|                null|                null|            3.765625|4.198617511520737|\n",
      "| stddev|                null|                null|   4.042965856480446|3.707125012412569|\n",
      "|    min|                   \"| Conflict check r...|            Illinois|               PP|\n",
      "|    max|swap out Potentia...|when we see Prima...|test and explaine...|          January|\n",
      "+-------+--------------------+--------------------+--------------------+-----------------+\n",
      "\n"
     ]
    }
   ],
   "source": [
    "df_hours.describe().show()"
   ]
  },
  {
   "cell_type": "code",
   "execution_count": 21,
   "id": "90992be2",
   "metadata": {},
   "outputs": [],
   "source": [
    "df_null_by_2_col = df.na.drop(subset=['Responsible','Hours'])"
   ]
  },
  {
   "cell_type": "code",
   "execution_count": 22,
   "id": "eaf54093",
   "metadata": {},
   "outputs": [
    {
     "data": {
      "text/plain": [
       "240"
      ]
     },
     "execution_count": 22,
     "metadata": {},
     "output_type": "execute_result"
    }
   ],
   "source": [
    "df_null_by_2_col.count()"
   ]
  },
  {
   "cell_type": "code",
   "execution_count": 23,
   "id": "2bf00d25",
   "metadata": {},
   "outputs": [
    {
     "name": "stdout",
     "output_type": "stream",
     "text": [
      "+----------+--------------------+-----------------+-----+\n",
      "|   Project|               Tasks|      Responsible|Hours|\n",
      "+----------+--------------------+-----------------+-----+\n",
      "|  Power BI| BRM update for 2023|Surbhi Khandelwal|    5|\n",
      "|  Power BI|BRM issue with co...|Surbhi Khandelwal|    7|\n",
      "|  Power BI|BRM issue with Ra...|Surbhi Khandelwal|    4|\n",
      "|  Power BI|Research on how t...|Surbhi Khandelwal|    4|\n",
      "|  Power BI| BRM add departments|Surbhi Khandelwal|    3|\n",
      "|  Power BI|Offer settlement ...|Surbhi Khandelwal|    4|\n",
      "|  Power BI|Research on sendi...|Surbhi Khandelwal|    4|\n",
      "|  Power BI|RLS for productiv...|Surbhi Khandelwal|  3.5|\n",
      "|  Power BI|Foreclosure repor...|Surbhi Khandelwal|    2|\n",
      "|  Power BI|BRM report - P&L ...|Surbhi Khandelwal|  5.5|\n",
      "|  Power BI|Research on how t...|Surbhi Khandelwal|    6|\n",
      "|  Power BI|    BRM report issue|Surbhi Khandelwal|    8|\n",
      "|  Power BI|Microsoft Azure B...|Surbhi Khandelwal|    1|\n",
      "|  Power BI|Research on matte...|Surbhi Khandelwal|    3|\n",
      "|Power Apps| Removed Rachel G...|     Anjali Dubey|  0.5|\n",
      "|Power Apps|epwander@kelleykr...|     Anjali Dubey|  0.5|\n",
      "|Power Apps| Conflict check r...|     Anjali Dubey|  1.5|\n",
      "|Power Apps| Opp#722662593 co...|     Anjali Dubey|    2|\n",
      "|Power Apps| New Hire Initial...|     Anjali Dubey|   16|\n",
      "|Power Apps|add BUL Distrib l...|     Anjali Dubey|    5|\n",
      "+----------+--------------------+-----------------+-----+\n",
      "only showing top 20 rows\n",
      "\n"
     ]
    }
   ],
   "source": [
    "df_null_by_2_col.show()"
   ]
  },
  {
   "cell_type": "code",
   "execution_count": 24,
   "id": "fa51edc6",
   "metadata": {},
   "outputs": [],
   "source": [
    "df_desc = df.describe()"
   ]
  },
  {
   "cell_type": "code",
   "execution_count": 25,
   "id": "340cf94c",
   "metadata": {},
   "outputs": [
    {
     "name": "stdout",
     "output_type": "stream",
     "text": [
      "+-------+--------------------+--------------------+--------------------+-----------------+\n",
      "|summary|             Project|               Tasks|         Responsible|            Hours|\n",
      "+-------+--------------------+--------------------+--------------------+-----------------+\n",
      "|  count|                 317|                 278|                 246|              240|\n",
      "|   mean|                null|                null|            3.765625|4.198617511520737|\n",
      "| stddev|                null|                null|   4.042965856480446|3.707125012412569|\n",
      "|    min|                   \"| CC Portal Bug: B...|            Illinois|               PP|\n",
      "|    max|swap out Potentia...|when we see Prima...|test and explaine...|          January|\n",
      "+-------+--------------------+--------------------+--------------------+-----------------+\n",
      "\n"
     ]
    }
   ],
   "source": [
    "df_desc.show()"
   ]
  },
  {
   "cell_type": "code",
   "execution_count": 26,
   "id": "6c4316da",
   "metadata": {},
   "outputs": [
    {
     "name": "stdout",
     "output_type": "stream",
     "text": [
      "+--------------------+--------------------+-----------------+-----+\n",
      "|             Project|               Tasks|      Responsible|Hours|\n",
      "+--------------------+--------------------+-----------------+-----+\n",
      "|                null|                null|             null| null|\n",
      "|             January|                null|             null| null|\n",
      "|            Power BI| BRM update for 2023|Surbhi Khandelwal|    5|\n",
      "|            Power BI|BRM updating quer...|             null| null|\n",
      "|,Surbhi Khandelwa...|                null|             null| null|\n",
      "|            Power BI|BRM issue with co...|Surbhi Khandelwal|    7|\n",
      "|            Power BI|BRM issue with Ra...|Surbhi Khandelwal|    4|\n",
      "|            Power BI|Research on how t...|Surbhi Khandelwal|    4|\n",
      "|            Power BI| BRM add departments|Surbhi Khandelwal|    3|\n",
      "|            Power BI|Offer settlement ...|Surbhi Khandelwal|    4|\n",
      "|            Power BI|Research on sendi...|Surbhi Khandelwal|    4|\n",
      "|            Power BI|RLS for productiv...|Surbhi Khandelwal|  3.5|\n",
      "|            Power BI|Foreclosure repor...|Surbhi Khandelwal|    2|\n",
      "|            Power BI|BRM report - P&L ...|Surbhi Khandelwal|  5.5|\n",
      "|            Power BI|Research on how t...|Surbhi Khandelwal|    6|\n",
      "|            Power BI|    BRM report issue|Surbhi Khandelwal|    8|\n",
      "|            Power BI|Microsoft Azure B...|Surbhi Khandelwal|    1|\n",
      "|            Power BI|Research on matte...|Surbhi Khandelwal|    3|\n",
      "|          Power Apps| Removed Rachel G...|     Anjali Dubey|  0.5|\n",
      "|          Power Apps|epwander@kelleykr...|     Anjali Dubey|  0.5|\n",
      "+--------------------+--------------------+-----------------+-----+\n",
      "only showing top 20 rows\n",
      "\n"
     ]
    }
   ],
   "source": [
    "df.show()"
   ]
  },
  {
   "cell_type": "code",
   "execution_count": null,
   "id": "8be6020e",
   "metadata": {},
   "outputs": [],
   "source": []
  },
  {
   "cell_type": "code",
   "execution_count": null,
   "id": "ad53f806",
   "metadata": {},
   "outputs": [],
   "source": [
    "\n"
   ]
  },
  {
   "cell_type": "code",
   "execution_count": 27,
   "id": "8e7a6175",
   "metadata": {},
   "outputs": [
    {
     "name": "stdout",
     "output_type": "stream",
     "text": [
      "+----------+--------------------+-----------------+-----+\n",
      "|   Project|               Tasks|      Responsible|Hours|\n",
      "+----------+--------------------+-----------------+-----+\n",
      "|  Power BI| BRM update for 2023|Surbhi Khandelwal|    5|\n",
      "|  Power BI|BRM issue with co...|Surbhi Khandelwal|    7|\n",
      "|  Power BI|BRM issue with Ra...|Surbhi Khandelwal|    4|\n",
      "|  Power BI|Research on how t...|Surbhi Khandelwal|    4|\n",
      "|  Power BI| BRM add departments|Surbhi Khandelwal|    3|\n",
      "|  Power BI|Offer settlement ...|Surbhi Khandelwal|    4|\n",
      "|  Power BI|Research on sendi...|Surbhi Khandelwal|    4|\n",
      "|  Power BI|RLS for productiv...|Surbhi Khandelwal|  3.5|\n",
      "|  Power BI|Foreclosure repor...|Surbhi Khandelwal|    2|\n",
      "|  Power BI|BRM report - P&L ...|Surbhi Khandelwal|  5.5|\n",
      "|  Power BI|Research on how t...|Surbhi Khandelwal|    6|\n",
      "|  Power BI|    BRM report issue|Surbhi Khandelwal|    8|\n",
      "|  Power BI|Microsoft Azure B...|Surbhi Khandelwal|    1|\n",
      "|  Power BI|Research on matte...|Surbhi Khandelwal|    3|\n",
      "|Power Apps| Removed Rachel G...|     Anjali Dubey|  0.5|\n",
      "|Power Apps|epwander@kelleykr...|     Anjali Dubey|  0.5|\n",
      "|Power Apps| Conflict check r...|     Anjali Dubey|  1.5|\n",
      "|Power Apps| Opp#722662593 co...|     Anjali Dubey|    2|\n",
      "|Power Apps| New Hire Initial...|     Anjali Dubey|   16|\n",
      "|Power Apps|add BUL Distrib l...|     Anjali Dubey|    5|\n",
      "+----------+--------------------+-----------------+-----+\n",
      "only showing top 20 rows\n",
      "\n"
     ]
    }
   ],
   "source": [
    "df_hours.show()"
   ]
  },
  {
   "cell_type": "code",
   "execution_count": 28,
   "id": "bddbfec1",
   "metadata": {},
   "outputs": [
    {
     "name": "stdout",
     "output_type": "stream",
     "text": [
      "+--------------------+--------------------+-----------------+-----+\n",
      "|             Project|               Tasks|      Responsible|Hours|\n",
      "+--------------------+--------------------+-----------------+-----+\n",
      "|                null|                null|             null| null|\n",
      "|             January|                null|             null| null|\n",
      "|            Power BI| BRM update for 2023|Surbhi Khandelwal|    5|\n",
      "|            Power BI|BRM updating quer...|             null| null|\n",
      "|,Surbhi Khandelwa...|                null|             null| null|\n",
      "|            Power BI|BRM issue with co...|Surbhi Khandelwal|    7|\n",
      "|            Power BI|BRM issue with Ra...|Surbhi Khandelwal|    4|\n",
      "|            Power BI|Research on how t...|Surbhi Khandelwal|    4|\n",
      "|            Power BI| BRM add departments|Surbhi Khandelwal|    3|\n",
      "|            Power BI|Offer settlement ...|Surbhi Khandelwal|    4|\n",
      "|            Power BI|Research on sendi...|Surbhi Khandelwal|    4|\n",
      "|            Power BI|RLS for productiv...|Surbhi Khandelwal|  3.5|\n",
      "|            Power BI|Foreclosure repor...|Surbhi Khandelwal|    2|\n",
      "|            Power BI|BRM report - P&L ...|Surbhi Khandelwal|  5.5|\n",
      "|            Power BI|Research on how t...|Surbhi Khandelwal|    6|\n",
      "|            Power BI|    BRM report issue|Surbhi Khandelwal|    8|\n",
      "|            Power BI|Microsoft Azure B...|Surbhi Khandelwal|    1|\n",
      "|            Power BI|Research on matte...|Surbhi Khandelwal|    3|\n",
      "|          Power Apps| Removed Rachel G...|     Anjali Dubey|  0.5|\n",
      "|          Power Apps|epwander@kelleykr...|     Anjali Dubey|  0.5|\n",
      "+--------------------+--------------------+-----------------+-----+\n",
      "only showing top 20 rows\n",
      "\n"
     ]
    }
   ],
   "source": [
    "df.show()"
   ]
  },
  {
   "cell_type": "code",
   "execution_count": 31,
   "id": "9ece9744",
   "metadata": {},
   "outputs": [
    {
     "name": "stdout",
     "output_type": "stream",
     "text": [
      "+--------------------+--------------------+-----------------+-------+\n",
      "|             Project|               Tasks|      Responsible|  Hours|\n",
      "+--------------------+--------------------+-----------------+-------+\n",
      "|                null|             MISSING|             null|MISSING|\n",
      "|             January|             MISSING|             null|MISSING|\n",
      "|            Power BI| BRM update for 2023|Surbhi Khandelwal|      5|\n",
      "|            Power BI|BRM updating quer...|             null|MISSING|\n",
      "|,Surbhi Khandelwa...|             MISSING|             null|MISSING|\n",
      "|            Power BI|BRM issue with co...|Surbhi Khandelwal|      7|\n",
      "|            Power BI|BRM issue with Ra...|Surbhi Khandelwal|      4|\n",
      "|            Power BI|Research on how t...|Surbhi Khandelwal|      4|\n",
      "|            Power BI| BRM add departments|Surbhi Khandelwal|      3|\n",
      "|            Power BI|Offer settlement ...|Surbhi Khandelwal|      4|\n",
      "|            Power BI|Research on sendi...|Surbhi Khandelwal|      4|\n",
      "|            Power BI|RLS for productiv...|Surbhi Khandelwal|    3.5|\n",
      "|            Power BI|Foreclosure repor...|Surbhi Khandelwal|      2|\n",
      "|            Power BI|BRM report - P&L ...|Surbhi Khandelwal|    5.5|\n",
      "|            Power BI|Research on how t...|Surbhi Khandelwal|      6|\n",
      "|            Power BI|    BRM report issue|Surbhi Khandelwal|      8|\n",
      "|            Power BI|Microsoft Azure B...|Surbhi Khandelwal|      1|\n",
      "|            Power BI|Research on matte...|Surbhi Khandelwal|      3|\n",
      "|          Power Apps| Removed Rachel G...|     Anjali Dubey|    0.5|\n",
      "|          Power Apps|epwander@kelleykr...|     Anjali Dubey|    0.5|\n",
      "+--------------------+--------------------+-----------------+-------+\n",
      "only showing top 20 rows\n",
      "\n"
     ]
    }
   ],
   "source": [
    "df.na.fill(\"MISSING\",['Hours','Tasks']).show()"
   ]
  },
  {
   "cell_type": "code",
   "execution_count": 33,
   "id": "946b6271",
   "metadata": {},
   "outputs": [
    {
     "name": "stdout",
     "output_type": "stream",
     "text": [
      "+-------+--------------------+--------------------+--------------------+-----------------+\n",
      "|summary|             Project|               Tasks|         Responsible|            Hours|\n",
      "+-------+--------------------+--------------------+--------------------+-----------------+\n",
      "|  count|                 240|                 240|                 240|              240|\n",
      "|   mean|                null|                null|            3.765625|4.198617511520737|\n",
      "| stddev|                null|                null|   4.042965856480446|3.707125012412569|\n",
      "|    min|                   \"| Conflict check r...|            Illinois|               PP|\n",
      "|    max|swap out Potentia...|when we see Prima...|test and explaine...|          January|\n",
      "+-------+--------------------+--------------------+--------------------+-----------------+\n",
      "\n"
     ]
    }
   ],
   "source": [
    "df_hours.describe().show()"
   ]
  },
  {
   "cell_type": "code",
   "execution_count": null,
   "id": "7db5111a",
   "metadata": {},
   "outputs": [],
   "source": []
  },
  {
   "cell_type": "code",
   "execution_count": 39,
   "id": "78675028",
   "metadata": {},
   "outputs": [
    {
     "data": {
      "text/plain": [
       "'4.198617511520737'"
      ]
     },
     "execution_count": 39,
     "metadata": {},
     "output_type": "execute_result"
    }
   ],
   "source": [
    "df_hours.describe().collect()[1][-1]"
   ]
  },
  {
   "cell_type": "code",
   "execution_count": 41,
   "id": "2210f5d8",
   "metadata": {},
   "outputs": [
    {
     "name": "stdout",
     "output_type": "stream",
     "text": [
      "+--------------------+--------------------+-----------------+-----------------+\n",
      "|             Project|               Tasks|      Responsible|            Hours|\n",
      "+--------------------+--------------------+-----------------+-----------------+\n",
      "|                null|                null|             null|4.198617511520737|\n",
      "|             January|                null|             null|4.198617511520737|\n",
      "|            Power BI| BRM update for 2023|Surbhi Khandelwal|                5|\n",
      "|            Power BI|BRM updating quer...|             null|4.198617511520737|\n",
      "|,Surbhi Khandelwa...|                null|             null|4.198617511520737|\n",
      "|            Power BI|BRM issue with co...|Surbhi Khandelwal|                7|\n",
      "|            Power BI|BRM issue with Ra...|Surbhi Khandelwal|                4|\n",
      "|            Power BI|Research on how t...|Surbhi Khandelwal|                4|\n",
      "|            Power BI| BRM add departments|Surbhi Khandelwal|                3|\n",
      "|            Power BI|Offer settlement ...|Surbhi Khandelwal|                4|\n",
      "|            Power BI|Research on sendi...|Surbhi Khandelwal|                4|\n",
      "|            Power BI|RLS for productiv...|Surbhi Khandelwal|              3.5|\n",
      "|            Power BI|Foreclosure repor...|Surbhi Khandelwal|                2|\n",
      "|            Power BI|BRM report - P&L ...|Surbhi Khandelwal|              5.5|\n",
      "|            Power BI|Research on how t...|Surbhi Khandelwal|                6|\n",
      "|            Power BI|    BRM report issue|Surbhi Khandelwal|                8|\n",
      "|            Power BI|Microsoft Azure B...|Surbhi Khandelwal|                1|\n",
      "|            Power BI|Research on matte...|Surbhi Khandelwal|                3|\n",
      "|          Power Apps| Removed Rachel G...|     Anjali Dubey|              0.5|\n",
      "|          Power Apps|epwander@kelleykr...|     Anjali Dubey|              0.5|\n",
      "+--------------------+--------------------+-----------------+-----------------+\n",
      "only showing top 20 rows\n",
      "\n"
     ]
    }
   ],
   "source": [
    "df.na.fill(df_hours.describe().collect()[1][-1],['Hours']).show()"
   ]
  },
  {
   "cell_type": "code",
   "execution_count": 43,
   "id": "28446088",
   "metadata": {},
   "outputs": [
    {
     "data": {
      "text/plain": [
       "list"
      ]
     },
     "execution_count": 43,
     "metadata": {},
     "output_type": "execute_result"
    }
   ],
   "source": [
    "type(df_hours.describe().collect())"
   ]
  },
  {
   "cell_type": "code",
   "execution_count": null,
   "id": "1ea183f0",
   "metadata": {},
   "outputs": [],
   "source": []
  }
 ],
 "metadata": {
  "kernelspec": {
   "display_name": "Python 3 (ipykernel)",
   "language": "python",
   "name": "python3"
  },
  "language_info": {
   "codemirror_mode": {
    "name": "ipython",
    "version": 3
   },
   "file_extension": ".py",
   "mimetype": "text/x-python",
   "name": "python",
   "nbconvert_exporter": "python",
   "pygments_lexer": "ipython3",
   "version": "3.11.4"
  }
 },
 "nbformat": 4,
 "nbformat_minor": 5
}
